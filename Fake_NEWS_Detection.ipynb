{
  "nbformat": 4,
  "nbformat_minor": 0,
  "metadata": {
    "colab": {
      "provenance": [],
      "collapsed_sections": []
    },
    "kernelspec": {
      "name": "python3",
      "display_name": "Python 3"
    },
    "language_info": {
      "name": "python"
    },
    "accelerator": "GPU"
  },
  "cells": [
    {
      "cell_type": "markdown",
      "source": [
        "## Library Imports"
      ],
      "metadata": {
        "id": "nht-5Thz1-d0"
      }
    },
    {
      "cell_type": "code",
      "execution_count": 1,
      "metadata": {
        "id": "djx_Wp8nzPDg"
      },
      "outputs": [],
      "source": [
        "import numpy as np\n",
        "import pandas as pd\n",
        "import matplotlib.pyplot as plt\n",
        "import seaborn as sns\n",
        "import nltk\n",
        "import re\n",
        "from wordcloud import WordCloud\n",
        "import warnings\n",
        "warnings.filterwarnings('ignore')\n",
        "%matplotlib inline"
      ]
    },
    {
      "cell_type": "code",
      "source": [
        "from tensorflow.keras.preprocessing.text import Tokenizer\n",
        "from tensorflow.keras.preprocessing.sequence import pad_sequences\n",
        "from tensorflow.keras.models import Sequential\n",
        "from tensorflow.keras.layers import Dense, Embedding, LSTM, Conv1D, MaxPool1D\n",
        "from sklearn.model_selection import train_test_split\n",
        "from sklearn.metrics import classification_report, accuracy_score"
      ],
      "metadata": {
        "id": "wF1UymAB0mpg"
      },
      "execution_count": 2,
      "outputs": []
    },
    {
      "cell_type": "markdown",
      "source": [
        "## Exploring Fake News"
      ],
      "metadata": {
        "id": "b-sVN3eU1jsI"
      }
    },
    {
      "cell_type": "code",
      "source": [
        "fake = pd.read_csv('https://raw.githubusercontent.com/laxmimerit/fake-real-news-dataset/main/data/Fake.csv')"
      ],
      "metadata": {
        "id": "Xb6Z2cWP1BYe"
      },
      "execution_count": 3,
      "outputs": []
    },
    {
      "cell_type": "code",
      "source": [
        "fake.head()"
      ],
      "metadata": {
        "colab": {
          "base_uri": "https://localhost:8080/",
          "height": 206
        },
        "id": "F4tmL0IO1ohp",
        "outputId": "4cd4511a-bd47-4dae-b0e8-23287934c4bf"
      },
      "execution_count": 4,
      "outputs": [
        {
          "output_type": "execute_result",
          "data": {
            "text/plain": [
              "                                               title  \\\n",
              "0   Donald Trump Sends Out Embarrassing New Year’...   \n",
              "1   Drunk Bragging Trump Staffer Started Russian ...   \n",
              "2   Sheriff David Clarke Becomes An Internet Joke...   \n",
              "3   Trump Is So Obsessed He Even Has Obama’s Name...   \n",
              "4   Pope Francis Just Called Out Donald Trump Dur...   \n",
              "\n",
              "                                                text subject  \\\n",
              "0  Donald Trump just couldn t wish all Americans ...    News   \n",
              "1  House Intelligence Committee Chairman Devin Nu...    News   \n",
              "2  On Friday, it was revealed that former Milwauk...    News   \n",
              "3  On Christmas day, Donald Trump announced that ...    News   \n",
              "4  Pope Francis used his annual Christmas Day mes...    News   \n",
              "\n",
              "                date  \n",
              "0  December 31, 2017  \n",
              "1  December 31, 2017  \n",
              "2  December 30, 2017  \n",
              "3  December 29, 2017  \n",
              "4  December 25, 2017  "
            ],
            "text/html": [
              "\n",
              "  <div id=\"df-ba25cc7d-94f8-4893-86de-89c2262ce9f3\">\n",
              "    <div class=\"colab-df-container\">\n",
              "      <div>\n",
              "<style scoped>\n",
              "    .dataframe tbody tr th:only-of-type {\n",
              "        vertical-align: middle;\n",
              "    }\n",
              "\n",
              "    .dataframe tbody tr th {\n",
              "        vertical-align: top;\n",
              "    }\n",
              "\n",
              "    .dataframe thead th {\n",
              "        text-align: right;\n",
              "    }\n",
              "</style>\n",
              "<table border=\"1\" class=\"dataframe\">\n",
              "  <thead>\n",
              "    <tr style=\"text-align: right;\">\n",
              "      <th></th>\n",
              "      <th>title</th>\n",
              "      <th>text</th>\n",
              "      <th>subject</th>\n",
              "      <th>date</th>\n",
              "    </tr>\n",
              "  </thead>\n",
              "  <tbody>\n",
              "    <tr>\n",
              "      <th>0</th>\n",
              "      <td>Donald Trump Sends Out Embarrassing New Year’...</td>\n",
              "      <td>Donald Trump just couldn t wish all Americans ...</td>\n",
              "      <td>News</td>\n",
              "      <td>December 31, 2017</td>\n",
              "    </tr>\n",
              "    <tr>\n",
              "      <th>1</th>\n",
              "      <td>Drunk Bragging Trump Staffer Started Russian ...</td>\n",
              "      <td>House Intelligence Committee Chairman Devin Nu...</td>\n",
              "      <td>News</td>\n",
              "      <td>December 31, 2017</td>\n",
              "    </tr>\n",
              "    <tr>\n",
              "      <th>2</th>\n",
              "      <td>Sheriff David Clarke Becomes An Internet Joke...</td>\n",
              "      <td>On Friday, it was revealed that former Milwauk...</td>\n",
              "      <td>News</td>\n",
              "      <td>December 30, 2017</td>\n",
              "    </tr>\n",
              "    <tr>\n",
              "      <th>3</th>\n",
              "      <td>Trump Is So Obsessed He Even Has Obama’s Name...</td>\n",
              "      <td>On Christmas day, Donald Trump announced that ...</td>\n",
              "      <td>News</td>\n",
              "      <td>December 29, 2017</td>\n",
              "    </tr>\n",
              "    <tr>\n",
              "      <th>4</th>\n",
              "      <td>Pope Francis Just Called Out Donald Trump Dur...</td>\n",
              "      <td>Pope Francis used his annual Christmas Day mes...</td>\n",
              "      <td>News</td>\n",
              "      <td>December 25, 2017</td>\n",
              "    </tr>\n",
              "  </tbody>\n",
              "</table>\n",
              "</div>\n",
              "      <button class=\"colab-df-convert\" onclick=\"convertToInteractive('df-ba25cc7d-94f8-4893-86de-89c2262ce9f3')\"\n",
              "              title=\"Convert this dataframe to an interactive table.\"\n",
              "              style=\"display:none;\">\n",
              "        \n",
              "  <svg xmlns=\"http://www.w3.org/2000/svg\" height=\"24px\"viewBox=\"0 0 24 24\"\n",
              "       width=\"24px\">\n",
              "    <path d=\"M0 0h24v24H0V0z\" fill=\"none\"/>\n",
              "    <path d=\"M18.56 5.44l.94 2.06.94-2.06 2.06-.94-2.06-.94-.94-2.06-.94 2.06-2.06.94zm-11 1L8.5 8.5l.94-2.06 2.06-.94-2.06-.94L8.5 2.5l-.94 2.06-2.06.94zm10 10l.94 2.06.94-2.06 2.06-.94-2.06-.94-.94-2.06-.94 2.06-2.06.94z\"/><path d=\"M17.41 7.96l-1.37-1.37c-.4-.4-.92-.59-1.43-.59-.52 0-1.04.2-1.43.59L10.3 9.45l-7.72 7.72c-.78.78-.78 2.05 0 2.83L4 21.41c.39.39.9.59 1.41.59.51 0 1.02-.2 1.41-.59l7.78-7.78 2.81-2.81c.8-.78.8-2.07 0-2.86zM5.41 20L4 18.59l7.72-7.72 1.47 1.35L5.41 20z\"/>\n",
              "  </svg>\n",
              "      </button>\n",
              "      \n",
              "  <style>\n",
              "    .colab-df-container {\n",
              "      display:flex;\n",
              "      flex-wrap:wrap;\n",
              "      gap: 12px;\n",
              "    }\n",
              "\n",
              "    .colab-df-convert {\n",
              "      background-color: #E8F0FE;\n",
              "      border: none;\n",
              "      border-radius: 50%;\n",
              "      cursor: pointer;\n",
              "      display: none;\n",
              "      fill: #1967D2;\n",
              "      height: 32px;\n",
              "      padding: 0 0 0 0;\n",
              "      width: 32px;\n",
              "    }\n",
              "\n",
              "    .colab-df-convert:hover {\n",
              "      background-color: #E2EBFA;\n",
              "      box-shadow: 0px 1px 2px rgba(60, 64, 67, 0.3), 0px 1px 3px 1px rgba(60, 64, 67, 0.15);\n",
              "      fill: #174EA6;\n",
              "    }\n",
              "\n",
              "    [theme=dark] .colab-df-convert {\n",
              "      background-color: #3B4455;\n",
              "      fill: #D2E3FC;\n",
              "    }\n",
              "\n",
              "    [theme=dark] .colab-df-convert:hover {\n",
              "      background-color: #434B5C;\n",
              "      box-shadow: 0px 1px 3px 1px rgba(0, 0, 0, 0.15);\n",
              "      filter: drop-shadow(0px 1px 2px rgba(0, 0, 0, 0.3));\n",
              "      fill: #FFFFFF;\n",
              "    }\n",
              "  </style>\n",
              "\n",
              "      <script>\n",
              "        const buttonEl =\n",
              "          document.querySelector('#df-ba25cc7d-94f8-4893-86de-89c2262ce9f3 button.colab-df-convert');\n",
              "        buttonEl.style.display =\n",
              "          google.colab.kernel.accessAllowed ? 'block' : 'none';\n",
              "\n",
              "        async function convertToInteractive(key) {\n",
              "          const element = document.querySelector('#df-ba25cc7d-94f8-4893-86de-89c2262ce9f3');\n",
              "          const dataTable =\n",
              "            await google.colab.kernel.invokeFunction('convertToInteractive',\n",
              "                                                     [key], {});\n",
              "          if (!dataTable) return;\n",
              "\n",
              "          const docLinkHtml = 'Like what you see? Visit the ' +\n",
              "            '<a target=\"_blank\" href=https://colab.research.google.com/notebooks/data_table.ipynb>data table notebook</a>'\n",
              "            + ' to learn more about interactive tables.';\n",
              "          element.innerHTML = '';\n",
              "          dataTable['output_type'] = 'display_data';\n",
              "          await google.colab.output.renderOutput(dataTable, element);\n",
              "          const docLink = document.createElement('div');\n",
              "          docLink.innerHTML = docLinkHtml;\n",
              "          element.appendChild(docLink);\n",
              "        }\n",
              "      </script>\n",
              "    </div>\n",
              "  </div>\n",
              "  "
            ]
          },
          "metadata": {},
          "execution_count": 4
        }
      ]
    },
    {
      "cell_type": "code",
      "source": [
        "fake.shape"
      ],
      "metadata": {
        "colab": {
          "base_uri": "https://localhost:8080/"
        },
        "id": "J0O_Rkde2FbU",
        "outputId": "a0c8a313-9ec5-429d-dc79-9f0d8e6c73c4"
      },
      "execution_count": 5,
      "outputs": [
        {
          "output_type": "execute_result",
          "data": {
            "text/plain": [
              "(23481, 4)"
            ]
          },
          "metadata": {},
          "execution_count": 5
        }
      ]
    },
    {
      "cell_type": "code",
      "source": [
        "fake.columns"
      ],
      "metadata": {
        "colab": {
          "base_uri": "https://localhost:8080/"
        },
        "id": "AmtkymjK2FYb",
        "outputId": "cde1dad1-e776-4232-cd64-18fee67b4e6e"
      },
      "execution_count": 6,
      "outputs": [
        {
          "output_type": "execute_result",
          "data": {
            "text/plain": [
              "Index(['title', 'text', 'subject', 'date'], dtype='object')"
            ]
          },
          "metadata": {},
          "execution_count": 6
        }
      ]
    },
    {
      "cell_type": "code",
      "source": [
        "fake['subject'].value_counts()"
      ],
      "metadata": {
        "colab": {
          "base_uri": "https://localhost:8080/"
        },
        "id": "Dmpitcdh2FUp",
        "outputId": "c59003fa-164e-4719-e7ff-cc00c565cb31"
      },
      "execution_count": 7,
      "outputs": [
        {
          "output_type": "execute_result",
          "data": {
            "text/plain": [
              "News               9050\n",
              "politics           6841\n",
              "left-news          4459\n",
              "Government News    1570\n",
              "US_News             783\n",
              "Middle-east         778\n",
              "Name: subject, dtype: int64"
            ]
          },
          "metadata": {},
          "execution_count": 7
        }
      ]
    },
    {
      "cell_type": "code",
      "source": [
        "plt.figure(figsize=(10,6))\n",
        "sns.countplot('subject', data=fake)"
      ],
      "metadata": {
        "colab": {
          "base_uri": "https://localhost:8080/",
          "height": 406
        },
        "id": "jMtvIDKR2FTX",
        "outputId": "a46c25fd-7ef4-4186-aadb-e10ecdd7d163"
      },
      "execution_count": 8,
      "outputs": [
        {
          "output_type": "execute_result",
          "data": {
            "text/plain": [
              "<matplotlib.axes._subplots.AxesSubplot at 0x7f51db8d7ed0>"
            ]
          },
          "metadata": {},
          "execution_count": 8
        },
        {
          "output_type": "display_data",
          "data": {
            "text/plain": [
              "<Figure size 720x432 with 1 Axes>"
            ],
            "image/png": "[encoded data removed]"
          },
          "metadata": {
            "needs_background": "light"
          }
        }
      ]
    },
    {
      "cell_type": "markdown",
      "source": [
        "## Wordcloud"
      ],
      "metadata": {
        "id": "6aNc7SNX3AHn"
      }
    },
    {
      "cell_type": "code",
      "source": [
        "text = ' '.join(fake['text'].tolist())"
      ],
      "metadata": {
        "id": "HmVofUVg3DXY"
      },
      "execution_count": 9,
      "outputs": []
    },
    {
      "cell_type": "code",
      "source": [
        "text[:200]"
      ],
      "metadata": {
        "colab": {
          "base_uri": "https://localhost:8080/",
          "height": 53
        },
        "id": "4d-1C8_Z3DLz",
        "outputId": "ff0e32e8-6de2-45da-be4d-d364cd4e5bcc"
      },
      "execution_count": 10,
      "outputs": [
        {
          "output_type": "execute_result",
          "data": {
            "text/plain": [
              "'Donald Trump just couldn t wish all Americans a Happy New Year and leave it at that. Instead, he had to give a shout out to his enemies, haters and  the very dishonest fake news media.  The former rea'"
            ],
            "application/vnd.google.colaboratory.intrinsic+json": {
              "type": "string"
            }
          },
          "metadata": {},
          "execution_count": 10
        }
      ]
    },
    {
      "cell_type": "code",
      "source": [
        "wordcloud = WordCloud(width=1920, height=1000).generate(text)\n",
        "plt.figure(figsize=(10,20))\n",
        "plt.axis('off')\n",
        "plt.imshow(wordcloud)"
      ],
      "metadata": {
        "colab": {
          "base_uri": "https://localhost:8080/",
          "height": 339
        },
        "id": "4_yZRboK27cC",
        "outputId": "ea044d0d-2756-435c-88fb-b3c066658961"
      },
      "execution_count": 11,
      "outputs": [
        {
          "output_type": "execute_result",
          "data": {
            "text/plain": [
              "<matplotlib.image.AxesImage at 0x7f51db7e5390>"
            ]
          },
          "metadata": {},
          "execution_count": 11
        },
        {
          "output_type": "display_data",
          "data": {
            "text/plain": [
              "<Figure size 720x1440 with 1 Axes>"
            ],
            "image/png": "[encoded data removed]"
          },
          "metadata": {
            "needs_background": "light"
          }
        }
      ]
    },
    {
      "cell_type": "markdown",
      "source": [
        "## Exploring Real News"
      ],
      "metadata": {
        "id": "VdmjNa954OA6"
      }
    },
    {
      "cell_type": "code",
      "source": [
        "real = pd.read_csv('https://raw.githubusercontent.com/laxmimerit/fake-real-news-dataset/main/data/True.csv')"
      ],
      "metadata": {
        "id": "OaGI4e5x27ZL"
      },
      "execution_count": 12,
      "outputs": []
    },
    {
      "cell_type": "code",
      "source": [
        "real.head()"
      ],
      "metadata": {
        "colab": {
          "base_uri": "https://localhost:8080/",
          "height": 206
        },
        "id": "G6NaBtN227WW",
        "outputId": "db2175ee-3e02-4157-d04e-fb86745b02f1"
      },
      "execution_count": 13,
      "outputs": [
        {
          "output_type": "execute_result",
          "data": {
            "text/plain": [
              "                                               title  \\\n",
              "0  As U.S. budget fight looms, Republicans flip t...   \n",
              "1  U.S. military to accept transgender recruits o...   \n",
              "2  Senior U.S. Republican senator: 'Let Mr. Muell...   \n",
              "3  FBI Russia probe helped by Australian diplomat...   \n",
              "4  Trump wants Postal Service to charge 'much mor...   \n",
              "\n",
              "                                                text       subject  \\\n",
              "0  WASHINGTON (Reuters) - The head of a conservat...  politicsNews   \n",
              "1  WASHINGTON (Reuters) - Transgender people will...  politicsNews   \n",
              "2  WASHINGTON (Reuters) - The special counsel inv...  politicsNews   \n",
              "3  WASHINGTON (Reuters) - Trump campaign adviser ...  politicsNews   \n",
              "4  SEATTLE/WASHINGTON (Reuters) - President Donal...  politicsNews   \n",
              "\n",
              "                 date  \n",
              "0  December 31, 2017   \n",
              "1  December 29, 2017   \n",
              "2  December 31, 2017   \n",
              "3  December 30, 2017   \n",
              "4  December 29, 2017   "
            ],
            "text/html": [
              "\n",
              "  <div id=\"df-ae272eb6-2914-4bd7-9a1e-23d590c3eb64\">\n",
              "    <div class=\"colab-df-container\">\n",
              "      <div>\n",
              "<style scoped>\n",
              "    .dataframe tbody tr th:only-of-type {\n",
              "        vertical-align: middle;\n",
              "    }\n",
              "\n",
              "    .dataframe tbody tr th {\n",
              "        vertical-align: top;\n",
              "    }\n",
              "\n",
              "    .dataframe thead th {\n",
              "        text-align: right;\n",
              "    }\n",
              "</style>\n",
              "<table border=\"1\" class=\"dataframe\">\n",
              "  <thead>\n",
              "    <tr style=\"text-align: right;\">\n",
              "      <th></th>\n",
              "      <th>title</th>\n",
              "      <th>text</th>\n",
              "      <th>subject</th>\n",
              "      <th>date</th>\n",
              "    </tr>\n",
              "  </thead>\n",
              "  <tbody>\n",
              "    <tr>\n",
              "      <th>0</th>\n",
              "      <td>As U.S. budget fight looms, Republicans flip t...</td>\n",
              "      <td>WASHINGTON (Reuters) - The head of a conservat...</td>\n",
              "      <td>politicsNews</td>\n",
              "      <td>December 31, 2017</td>\n",
              "    </tr>\n",
              "    <tr>\n",
              "      <th>1</th>\n",
              "      <td>U.S. military to accept transgender recruits o...</td>\n",
              "      <td>WASHINGTON (Reuters) - Transgender people will...</td>\n",
              "      <td>politicsNews</td>\n",
              "      <td>December 29, 2017</td>\n",
              "    </tr>\n",
              "    <tr>\n",
              "      <th>2</th>\n",
              "      <td>Senior U.S. Republican senator: 'Let Mr. Muell...</td>\n",
              "      <td>WASHINGTON (Reuters) - The special counsel inv...</td>\n",
              "      <td>politicsNews</td>\n",
              "      <td>December 31, 2017</td>\n",
              "    </tr>\n",
              "    <tr>\n",
              "      <th>3</th>\n",
              "      <td>FBI Russia probe helped by Australian diplomat...</td>\n",
              "      <td>WASHINGTON (Reuters) - Trump campaign adviser ...</td>\n",
              "      <td>politicsNews</td>\n",
              "      <td>December 30, 2017</td>\n",
              "    </tr>\n",
              "    <tr>\n",
              "      <th>4</th>\n",
              "      <td>Trump wants Postal Service to charge 'much mor...</td>\n",
              "      <td>SEATTLE/WASHINGTON (Reuters) - President Donal...</td>\n",
              "      <td>politicsNews</td>\n",
              "      <td>December 29, 2017</td>\n",
              "    </tr>\n",
              "  </tbody>\n",
              "</table>\n",
              "</div>\n",
              "      <button class=\"colab-df-convert\" onclick=\"convertToInteractive('df-ae272eb6-2914-4bd7-9a1e-23d590c3eb64')\"\n",
              "              title=\"Convert this dataframe to an interactive table.\"\n",
              "              style=\"display:none;\">\n",
              "        \n",
              "  <svg xmlns=\"http://www.w3.org/2000/svg\" height=\"24px\"viewBox=\"0 0 24 24\"\n",
              "       width=\"24px\">\n",
              "    <path d=\"M0 0h24v24H0V0z\" fill=\"none\"/>\n",
              "    <path d=\"M18.56 5.44l.94 2.06.94-2.06 2.06-.94-2.06-.94-.94-2.06-.94 2.06-2.06.94zm-11 1L8.5 8.5l.94-2.06 2.06-.94-2.06-.94L8.5 2.5l-.94 2.06-2.06.94zm10 10l.94 2.06.94-2.06 2.06-.94-2.06-.94-.94-2.06-.94 2.06-2.06.94z\"/><path d=\"M17.41 7.96l-1.37-1.37c-.4-.4-.92-.59-1.43-.59-.52 0-1.04.2-1.43.59L10.3 9.45l-7.72 7.72c-.78.78-.78 2.05 0 2.83L4 21.41c.39.39.9.59 1.41.59.51 0 1.02-.2 1.41-.59l7.78-7.78 2.81-2.81c.8-.78.8-2.07 0-2.86zM5.41 20L4 18.59l7.72-7.72 1.47 1.35L5.41 20z\"/>\n",
              "  </svg>\n",
              "      </button>\n",
              "      \n",
              "  <style>\n",
              "    .colab-df-container {\n",
              "      display:flex;\n",
              "      flex-wrap:wrap;\n",
              "      gap: 12px;\n",
              "    }\n",
              "\n",
              "    .colab-df-convert {\n",
              "      background-color: #E8F0FE;\n",
              "      border: none;\n",
              "      border-radius: 50%;\n",
              "      cursor: pointer;\n",
              "      display: none;\n",
              "      fill: #1967D2;\n",
              "      height: 32px;\n",
              "      padding: 0 0 0 0;\n",
              "      width: 32px;\n",
              "    }\n",
              "\n",
              "    .colab-df-convert:hover {\n",
              "      background-color: #E2EBFA;\n",
              "      box-shadow: 0px 1px 2px rgba(60, 64, 67, 0.3), 0px 1px 3px 1px rgba(60, 64, 67, 0.15);\n",
              "      fill: #174EA6;\n",
              "    }\n",
              "\n",
              "    [theme=dark] .colab-df-convert {\n",
              "      background-color: #3B4455;\n",
              "      fill: #D2E3FC;\n",
              "    }\n",
              "\n",
              "    [theme=dark] .colab-df-convert:hover {\n",
              "      background-color: #434B5C;\n",
              "      box-shadow: 0px 1px 3px 1px rgba(0, 0, 0, 0.15);\n",
              "      filter: drop-shadow(0px 1px 2px rgba(0, 0, 0, 0.3));\n",
              "      fill: #FFFFFF;\n",
              "    }\n",
              "  </style>\n",
              "\n",
              "      <script>\n",
              "        const buttonEl =\n",
              "          document.querySelector('#df-ae272eb6-2914-4bd7-9a1e-23d590c3eb64 button.colab-df-convert');\n",
              "        buttonEl.style.display =\n",
              "          google.colab.kernel.accessAllowed ? 'block' : 'none';\n",
              "\n",
              "        async function convertToInteractive(key) {\n",
              "          const element = document.querySelector('#df-ae272eb6-2914-4bd7-9a1e-23d590c3eb64');\n",
              "          const dataTable =\n",
              "            await google.colab.kernel.invokeFunction('convertToInteractive',\n",
              "                                                     [key], {});\n",
              "          if (!dataTable) return;\n",
              "\n",
              "          const docLinkHtml = 'Like what you see? Visit the ' +\n",
              "            '<a target=\"_blank\" href=https://colab.research.google.com/notebooks/data_table.ipynb>data table notebook</a>'\n",
              "            + ' to learn more about interactive tables.';\n",
              "          element.innerHTML = '';\n",
              "          dataTable['output_type'] = 'display_data';\n",
              "          await google.colab.output.renderOutput(dataTable, element);\n",
              "          const docLink = document.createElement('div');\n",
              "          docLink.innerHTML = docLinkHtml;\n",
              "          element.appendChild(docLink);\n",
              "        }\n",
              "      </script>\n",
              "    </div>\n",
              "  </div>\n",
              "  "
            ]
          },
          "metadata": {},
          "execution_count": 13
        }
      ]
    },
    {
      "cell_type": "code",
      "source": [
        "real.shape"
      ],
      "metadata": {
        "colab": {
          "base_uri": "https://localhost:8080/"
        },
        "id": "spH7aCQG27Ut",
        "outputId": "8228246f-e4aa-479d-a490-4cd64216b193"
      },
      "execution_count": 14,
      "outputs": [
        {
          "output_type": "execute_result",
          "data": {
            "text/plain": [
              "(21417, 4)"
            ]
          },
          "metadata": {},
          "execution_count": 14
        }
      ]
    },
    {
      "cell_type": "code",
      "source": [
        "text = ' '.join(real['text'].tolist())"
      ],
      "metadata": {
        "id": "nbyAPQ0a27Nx"
      },
      "execution_count": 15,
      "outputs": []
    },
    {
      "cell_type": "code",
      "source": [
        "text[:100]"
      ],
      "metadata": {
        "colab": {
          "base_uri": "https://localhost:8080/",
          "height": 35
        },
        "id": "hvGk2nqr27K7",
        "outputId": "609442a4-4aee-4517-d441-7fc9f622974b"
      },
      "execution_count": 16,
      "outputs": [
        {
          "output_type": "execute_result",
          "data": {
            "text/plain": [
              "'WASHINGTON (Reuters) - The head of a conservative Republican faction in the U.S. Congress, who voted'"
            ],
            "application/vnd.google.colaboratory.intrinsic+json": {
              "type": "string"
            }
          },
          "metadata": {},
          "execution_count": 16
        }
      ]
    },
    {
      "cell_type": "code",
      "source": [
        "wordcloud = WordCloud(width=1920, height=1000).generate(text)\n",
        "plt.figure(figsize=(10,20))\n",
        "plt.axis('off')\n",
        "plt.imshow(wordcloud)"
      ],
      "metadata": {
        "colab": {
          "base_uri": "https://localhost:8080/",
          "height": 339
        },
        "id": "xyrhWnqq1oeX",
        "outputId": "6be5e825-fc72-446a-b0c9-f4c9fc069e8e"
      },
      "execution_count": 17,
      "outputs": [
        {
          "output_type": "execute_result",
          "data": {
            "text/plain": [
              "<matplotlib.image.AxesImage at 0x7f51db802810>"
            ]
          },
          "metadata": {},
          "execution_count": 17
        },
        {
          "output_type": "display_data",
          "data": {
            "text/plain": [
              "<Figure size 720x1440 with 1 Axes>"
            ],
            "image/png": "[encoded data removed]"
          },
          "metadata": {
            "needs_background": "light"
          }
        }
      ]
    },
    {
      "cell_type": "markdown",
      "source": [
        "## Cleaning Data"
      ],
      "metadata": {
        "id": "Vf7KA3N54siM"
      }
    },
    {
      "cell_type": "code",
      "source": [
        "real.sample(5)"
      ],
      "metadata": {
        "colab": {
          "base_uri": "https://localhost:8080/",
          "height": 206
        },
        "id": "FJiKGaB64sXs",
        "outputId": "daa08e20-0a23-4075-9108-3a56e4f1c533"
      },
      "execution_count": 18,
      "outputs": [
        {
          "output_type": "execute_result",
          "data": {
            "text/plain": [
              "                                                   title  \\\n",
              "4051    The Reuters Graphic: North Korea's show of force   \n",
              "17165  Kosovo urges U.S. involvement in Belgrade, Pri...   \n",
              "16889  France to give 15 million euros in aid for Syr...   \n",
              "10290  Sergeant Bergdahl says 'fantastic' plan crumbl...   \n",
              "19836  Turkey's Erdogan, Iraq's Abadi to discuss Iraq...   \n",
              "\n",
              "                                                    text       subject  \\\n",
              "4051   (Reuters) - North Korea’s latest display of it...  politicsNews   \n",
              "17165   (This version of the October 15 story correct...     worldnews   \n",
              "16889  PARIS (Reuters) - France will provide 15 milli...     worldnews   \n",
              "10290  (Reuters) - U.S. Army Sergeant Bowe Bergdahl h...  politicsNews   \n",
              "19836  ANKARA (Reuters) - Turkish President Tayyip Er...     worldnews   \n",
              "\n",
              "                      date  \n",
              "4051       April 27, 2017   \n",
              "17165    October 16, 2017   \n",
              "16889    October 20, 2017   \n",
              "10290      March 17, 2016   \n",
              "19836  September 17, 2017   "
            ],
            "text/html": [
              "\n",
              "  <div id=\"df-11a7a590-8017-4c68-9f34-95c27a4ab40f\">\n",
              "    <div class=\"colab-df-container\">\n",
              "      <div>\n",
              "<style scoped>\n",
              "    .dataframe tbody tr th:only-of-type {\n",
              "        vertical-align: middle;\n",
              "    }\n",
              "\n",
              "    .dataframe tbody tr th {\n",
              "        vertical-align: top;\n",
              "    }\n",
              "\n",
              "    .dataframe thead th {\n",
              "        text-align: right;\n",
              "    }\n",
              "</style>\n",
              "<table border=\"1\" class=\"dataframe\">\n",
              "  <thead>\n",
              "    <tr style=\"text-align: right;\">\n",
              "      <th></th>\n",
              "      <th>title</th>\n",
              "      <th>text</th>\n",
              "      <th>subject</th>\n",
              "      <th>date</th>\n",
              "    </tr>\n",
              "  </thead>\n",
              "  <tbody>\n",
              "    <tr>\n",
              "      <th>4051</th>\n",
              "      <td>The Reuters Graphic: North Korea's show of force</td>\n",
              "      <td>(Reuters) - North Korea’s latest display of it...</td>\n",
              "      <td>politicsNews</td>\n",
              "      <td>April 27, 2017</td>\n",
              "    </tr>\n",
              "    <tr>\n",
              "      <th>17165</th>\n",
              "      <td>Kosovo urges U.S. involvement in Belgrade, Pri...</td>\n",
              "      <td>(This version of the October 15 story correct...</td>\n",
              "      <td>worldnews</td>\n",
              "      <td>October 16, 2017</td>\n",
              "    </tr>\n",
              "    <tr>\n",
              "      <th>16889</th>\n",
              "      <td>France to give 15 million euros in aid for Syr...</td>\n",
              "      <td>PARIS (Reuters) - France will provide 15 milli...</td>\n",
              "      <td>worldnews</td>\n",
              "      <td>October 20, 2017</td>\n",
              "    </tr>\n",
              "    <tr>\n",
              "      <th>10290</th>\n",
              "      <td>Sergeant Bergdahl says 'fantastic' plan crumbl...</td>\n",
              "      <td>(Reuters) - U.S. Army Sergeant Bowe Bergdahl h...</td>\n",
              "      <td>politicsNews</td>\n",
              "      <td>March 17, 2016</td>\n",
              "    </tr>\n",
              "    <tr>\n",
              "      <th>19836</th>\n",
              "      <td>Turkey's Erdogan, Iraq's Abadi to discuss Iraq...</td>\n",
              "      <td>ANKARA (Reuters) - Turkish President Tayyip Er...</td>\n",
              "      <td>worldnews</td>\n",
              "      <td>September 17, 2017</td>\n",
              "    </tr>\n",
              "  </tbody>\n",
              "</table>\n",
              "</div>\n",
              "      <button class=\"colab-df-convert\" onclick=\"convertToInteractive('df-11a7a590-8017-4c68-9f34-95c27a4ab40f')\"\n",
              "              title=\"Convert this dataframe to an interactive table.\"\n",
              "              style=\"display:none;\">\n",
              "        \n",
              "  <svg xmlns=\"http://www.w3.org/2000/svg\" height=\"24px\"viewBox=\"0 0 24 24\"\n",
              "       width=\"24px\">\n",
              "    <path d=\"M0 0h24v24H0V0z\" fill=\"none\"/>\n",
              "    <path d=\"M18.56 5.44l.94 2.06.94-2.06 2.06-.94-2.06-.94-.94-2.06-.94 2.06-2.06.94zm-11 1L8.5 8.5l.94-2.06 2.06-.94-2.06-.94L8.5 2.5l-.94 2.06-2.06.94zm10 10l.94 2.06.94-2.06 2.06-.94-2.06-.94-.94-2.06-.94 2.06-2.06.94z\"/><path d=\"M17.41 7.96l-1.37-1.37c-.4-.4-.92-.59-1.43-.59-.52 0-1.04.2-1.43.59L10.3 9.45l-7.72 7.72c-.78.78-.78 2.05 0 2.83L4 21.41c.39.39.9.59 1.41.59.51 0 1.02-.2 1.41-.59l7.78-7.78 2.81-2.81c.8-.78.8-2.07 0-2.86zM5.41 20L4 18.59l7.72-7.72 1.47 1.35L5.41 20z\"/>\n",
              "  </svg>\n",
              "      </button>\n",
              "      \n",
              "  <style>\n",
              "    .colab-df-container {\n",
              "      display:flex;\n",
              "      flex-wrap:wrap;\n",
              "      gap: 12px;\n",
              "    }\n",
              "\n",
              "    .colab-df-convert {\n",
              "      background-color: #E8F0FE;\n",
              "      border: none;\n",
              "      border-radius: 50%;\n",
              "      cursor: pointer;\n",
              "      display: none;\n",
              "      fill: #1967D2;\n",
              "      height: 32px;\n",
              "      padding: 0 0 0 0;\n",
              "      width: 32px;\n",
              "    }\n",
              "\n",
              "    .colab-df-convert:hover {\n",
              "      background-color: #E2EBFA;\n",
              "      box-shadow: 0px 1px 2px rgba(60, 64, 67, 0.3), 0px 1px 3px 1px rgba(60, 64, 67, 0.15);\n",
              "      fill: #174EA6;\n",
              "    }\n",
              "\n",
              "    [theme=dark] .colab-df-convert {\n",
              "      background-color: #3B4455;\n",
              "      fill: #D2E3FC;\n",
              "    }\n",
              "\n",
              "    [theme=dark] .colab-df-convert:hover {\n",
              "      background-color: #434B5C;\n",
              "      box-shadow: 0px 1px 3px 1px rgba(0, 0, 0, 0.15);\n",
              "      filter: drop-shadow(0px 1px 2px rgba(0, 0, 0, 0.3));\n",
              "      fill: #FFFFFF;\n",
              "    }\n",
              "  </style>\n",
              "\n",
              "      <script>\n",
              "        const buttonEl =\n",
              "          document.querySelector('#df-11a7a590-8017-4c68-9f34-95c27a4ab40f button.colab-df-convert');\n",
              "        buttonEl.style.display =\n",
              "          google.colab.kernel.accessAllowed ? 'block' : 'none';\n",
              "\n",
              "        async function convertToInteractive(key) {\n",
              "          const element = document.querySelector('#df-11a7a590-8017-4c68-9f34-95c27a4ab40f');\n",
              "          const dataTable =\n",
              "            await google.colab.kernel.invokeFunction('convertToInteractive',\n",
              "                                                     [key], {});\n",
              "          if (!dataTable) return;\n",
              "\n",
              "          const docLinkHtml = 'Like what you see? Visit the ' +\n",
              "            '<a target=\"_blank\" href=https://colab.research.google.com/notebooks/data_table.ipynb>data table notebook</a>'\n",
              "            + ' to learn more about interactive tables.';\n",
              "          element.innerHTML = '';\n",
              "          dataTable['output_type'] = 'display_data';\n",
              "          await google.colab.output.renderOutput(dataTable, element);\n",
              "          const docLink = document.createElement('div');\n",
              "          docLink.innerHTML = docLinkHtml;\n",
              "          element.appendChild(docLink);\n",
              "        }\n",
              "      </script>\n",
              "    </div>\n",
              "  </div>\n",
              "  "
            ]
          },
          "metadata": {},
          "execution_count": 18
        }
      ]
    },
    {
      "cell_type": "code",
      "source": [
        "unknown_publishers = []\n",
        "for index, row in enumerate(real.text.values):\n",
        "  try:\n",
        "    record = row.split('-', maxsplit=1)\n",
        "    record[1]\n",
        "\n",
        "    assert(len(record[0])<120)\n",
        "  except:\n",
        "    unknown_publishers.append(index)"
      ],
      "metadata": {
        "id": "n2725i_34sU2"
      },
      "execution_count": 19,
      "outputs": []
    },
    {
      "cell_type": "code",
      "source": [
        "len(unknown_publishers)"
      ],
      "metadata": {
        "colab": {
          "base_uri": "https://localhost:8080/"
        },
        "id": "YFjIp1-s4sPt",
        "outputId": "d465ffc5-e272-4a04-cf5b-44a149b4fbfe"
      },
      "execution_count": 20,
      "outputs": [
        {
          "output_type": "execute_result",
          "data": {
            "text/plain": [
              "222"
            ]
          },
          "metadata": {},
          "execution_count": 20
        }
      ]
    },
    {
      "cell_type": "code",
      "source": [
        "real.iloc[8970].text"
      ],
      "metadata": {
        "colab": {
          "base_uri": "https://localhost:8080/",
          "height": 35
        },
        "id": "OLYH6ONn68hN",
        "outputId": "674c5d4a-3e3d-4134-86fb-9c5f19a12d02"
      },
      "execution_count": 21,
      "outputs": [
        {
          "output_type": "execute_result",
          "data": {
            "text/plain": [
              "' '"
            ],
            "application/vnd.google.colaboratory.intrinsic+json": {
              "type": "string"
            }
          },
          "metadata": {},
          "execution_count": 21
        }
      ]
    },
    {
      "cell_type": "code",
      "source": [
        "real = real.drop(8970, axis=0)"
      ],
      "metadata": {
        "id": "0UrPm1qY7Ast"
      },
      "execution_count": 22,
      "outputs": []
    },
    {
      "cell_type": "code",
      "source": [
        "real.iloc[unknown_publishers].text"
      ],
      "metadata": {
        "colab": {
          "base_uri": "https://localhost:8080/"
        },
        "id": "j89e3Dqv4sOR",
        "outputId": "0e3f15fc-bdb0-4da9-c61b-13cbac28b53f"
      },
      "execution_count": 23,
      "outputs": [
        {
          "output_type": "execute_result",
          "data": {
            "text/plain": [
              "7        The following statements were posted to the ve...\n",
              "8        The following statements were posted to the ve...\n",
              "12       The following statements were posted to the ve...\n",
              "13       The following statements were posted to the ve...\n",
              "14        (In Dec. 25 story, in second paragraph, corre...\n",
              "                               ...                        \n",
              "20136    LIMA (Reuters) - The government of Peru s Pres...\n",
              "20501    BEIJING (Reuters) - Chinese importers of forei...\n",
              "20668    (Reuters) - Hurricane Irma, one of the most po...\n",
              "21247    LONDON (Reuters) - Princes William and Harry p...\n",
              "21340    LONDON (Reuters) - Britain will pay  not a pen...\n",
              "Name: text, Length: 222, dtype: object"
            ]
          },
          "metadata": {},
          "execution_count": 23
        }
      ]
    },
    {
      "cell_type": "code",
      "source": [
        "publisher = []\n",
        "tmp_text = []\n",
        "\n",
        "for index, row in enumerate(real.text.values):\n",
        "  if index in unknown_publishers:\n",
        "    tmp_text.append(row)\n",
        "    publisher.append('Unknown')\n",
        "    continue\n",
        "\n",
        "  else:\n",
        "    record = row.split('-', maxsplit=1)\n",
        "    publisher.append(record[0])\n",
        "    tmp_text.append(record[1])"
      ],
      "metadata": {
        "id": "jMbGGFtB4sLT"
      },
      "execution_count": 24,
      "outputs": []
    },
    {
      "cell_type": "code",
      "source": [
        "real['publisher'] = publisher\n",
        "real['text'] = tmp_text"
      ],
      "metadata": {
        "id": "VUmlU_vI4sJj"
      },
      "execution_count": 25,
      "outputs": []
    },
    {
      "cell_type": "code",
      "source": [
        "real.head()"
      ],
      "metadata": {
        "colab": {
          "base_uri": "https://localhost:8080/",
          "height": 206
        },
        "id": "HIgJLeLg4sGx",
        "outputId": "99ed262e-b41f-4c65-c7d8-9024d69eca5a"
      },
      "execution_count": 26,
      "outputs": [
        {
          "output_type": "execute_result",
          "data": {
            "text/plain": [
              "                                               title  \\\n",
              "0  As U.S. budget fight looms, Republicans flip t...   \n",
              "1  U.S. military to accept transgender recruits o...   \n",
              "2  Senior U.S. Republican senator: 'Let Mr. Muell...   \n",
              "3  FBI Russia probe helped by Australian diplomat...   \n",
              "4  Trump wants Postal Service to charge 'much mor...   \n",
              "\n",
              "                                                text       subject  \\\n",
              "0   The head of a conservative Republican faction...  politicsNews   \n",
              "1   Transgender people will be allowed for the fi...  politicsNews   \n",
              "2   The special counsel investigation of links be...  politicsNews   \n",
              "3   Trump campaign adviser George Papadopoulos to...  politicsNews   \n",
              "4   President Donald Trump called on the U.S. Pos...  politicsNews   \n",
              "\n",
              "                 date                      publisher  \n",
              "0  December 31, 2017           WASHINGTON (Reuters)   \n",
              "1  December 29, 2017           WASHINGTON (Reuters)   \n",
              "2  December 31, 2017           WASHINGTON (Reuters)   \n",
              "3  December 30, 2017           WASHINGTON (Reuters)   \n",
              "4  December 29, 2017   SEATTLE/WASHINGTON (Reuters)   "
            ],
            "text/html": [
              "\n",
              "  <div id=\"df-ee67a318-f16f-4bfe-ac7e-5f7be8284733\">\n",
              "    <div class=\"colab-df-container\">\n",
              "      <div>\n",
              "<style scoped>\n",
              "    .dataframe tbody tr th:only-of-type {\n",
              "        vertical-align: middle;\n",
              "    }\n",
              "\n",
              "    .dataframe tbody tr th {\n",
              "        vertical-align: top;\n",
              "    }\n",
              "\n",
              "    .dataframe thead th {\n",
              "        text-align: right;\n",
              "    }\n",
              "</style>\n",
              "<table border=\"1\" class=\"dataframe\">\n",
              "  <thead>\n",
              "    <tr style=\"text-align: right;\">\n",
              "      <th></th>\n",
              "      <th>title</th>\n",
              "      <th>text</th>\n",
              "      <th>subject</th>\n",
              "      <th>date</th>\n",
              "      <th>publisher</th>\n",
              "    </tr>\n",
              "  </thead>\n",
              "  <tbody>\n",
              "    <tr>\n",
              "      <th>0</th>\n",
              "      <td>As U.S. budget fight looms, Republicans flip t...</td>\n",
              "      <td>The head of a conservative Republican faction...</td>\n",
              "      <td>politicsNews</td>\n",
              "      <td>December 31, 2017</td>\n",
              "      <td>WASHINGTON (Reuters)</td>\n",
              "    </tr>\n",
              "    <tr>\n",
              "      <th>1</th>\n",
              "      <td>U.S. military to accept transgender recruits o...</td>\n",
              "      <td>Transgender people will be allowed for the fi...</td>\n",
              "      <td>politicsNews</td>\n",
              "      <td>December 29, 2017</td>\n",
              "      <td>WASHINGTON (Reuters)</td>\n",
              "    </tr>\n",
              "    <tr>\n",
              "      <th>2</th>\n",
              "      <td>Senior U.S. Republican senator: 'Let Mr. Muell...</td>\n",
              "      <td>The special counsel investigation of links be...</td>\n",
              "      <td>politicsNews</td>\n",
              "      <td>December 31, 2017</td>\n",
              "      <td>WASHINGTON (Reuters)</td>\n",
              "    </tr>\n",
              "    <tr>\n",
              "      <th>3</th>\n",
              "      <td>FBI Russia probe helped by Australian diplomat...</td>\n",
              "      <td>Trump campaign adviser George Papadopoulos to...</td>\n",
              "      <td>politicsNews</td>\n",
              "      <td>December 30, 2017</td>\n",
              "      <td>WASHINGTON (Reuters)</td>\n",
              "    </tr>\n",
              "    <tr>\n",
              "      <th>4</th>\n",
              "      <td>Trump wants Postal Service to charge 'much mor...</td>\n",
              "      <td>President Donald Trump called on the U.S. Pos...</td>\n",
              "      <td>politicsNews</td>\n",
              "      <td>December 29, 2017</td>\n",
              "      <td>SEATTLE/WASHINGTON (Reuters)</td>\n",
              "    </tr>\n",
              "  </tbody>\n",
              "</table>\n",
              "</div>\n",
              "      <button class=\"colab-df-convert\" onclick=\"convertToInteractive('df-ee67a318-f16f-4bfe-ac7e-5f7be8284733')\"\n",
              "              title=\"Convert this dataframe to an interactive table.\"\n",
              "              style=\"display:none;\">\n",
              "        \n",
              "  <svg xmlns=\"http://www.w3.org/2000/svg\" height=\"24px\"viewBox=\"0 0 24 24\"\n",
              "       width=\"24px\">\n",
              "    <path d=\"M0 0h24v24H0V0z\" fill=\"none\"/>\n",
              "    <path d=\"M18.56 5.44l.94 2.06.94-2.06 2.06-.94-2.06-.94-.94-2.06-.94 2.06-2.06.94zm-11 1L8.5 8.5l.94-2.06 2.06-.94-2.06-.94L8.5 2.5l-.94 2.06-2.06.94zm10 10l.94 2.06.94-2.06 2.06-.94-2.06-.94-.94-2.06-.94 2.06-2.06.94z\"/><path d=\"M17.41 7.96l-1.37-1.37c-.4-.4-.92-.59-1.43-.59-.52 0-1.04.2-1.43.59L10.3 9.45l-7.72 7.72c-.78.78-.78 2.05 0 2.83L4 21.41c.39.39.9.59 1.41.59.51 0 1.02-.2 1.41-.59l7.78-7.78 2.81-2.81c.8-.78.8-2.07 0-2.86zM5.41 20L4 18.59l7.72-7.72 1.47 1.35L5.41 20z\"/>\n",
              "  </svg>\n",
              "      </button>\n",
              "      \n",
              "  <style>\n",
              "    .colab-df-container {\n",
              "      display:flex;\n",
              "      flex-wrap:wrap;\n",
              "      gap: 12px;\n",
              "    }\n",
              "\n",
              "    .colab-df-convert {\n",
              "      background-color: #E8F0FE;\n",
              "      border: none;\n",
              "      border-radius: 50%;\n",
              "      cursor: pointer;\n",
              "      display: none;\n",
              "      fill: #1967D2;\n",
              "      height: 32px;\n",
              "      padding: 0 0 0 0;\n",
              "      width: 32px;\n",
              "    }\n",
              "\n",
              "    .colab-df-convert:hover {\n",
              "      background-color: #E2EBFA;\n",
              "      box-shadow: 0px 1px 2px rgba(60, 64, 67, 0.3), 0px 1px 3px 1px rgba(60, 64, 67, 0.15);\n",
              "      fill: #174EA6;\n",
              "    }\n",
              "\n",
              "    [theme=dark] .colab-df-convert {\n",
              "      background-color: #3B4455;\n",
              "      fill: #D2E3FC;\n",
              "    }\n",
              "\n",
              "    [theme=dark] .colab-df-convert:hover {\n",
              "      background-color: #434B5C;\n",
              "      box-shadow: 0px 1px 3px 1px rgba(0, 0, 0, 0.15);\n",
              "      filter: drop-shadow(0px 1px 2px rgba(0, 0, 0, 0.3));\n",
              "      fill: #FFFFFF;\n",
              "    }\n",
              "  </style>\n",
              "\n",
              "      <script>\n",
              "        const buttonEl =\n",
              "          document.querySelector('#df-ee67a318-f16f-4bfe-ac7e-5f7be8284733 button.colab-df-convert');\n",
              "        buttonEl.style.display =\n",
              "          google.colab.kernel.accessAllowed ? 'block' : 'none';\n",
              "\n",
              "        async function convertToInteractive(key) {\n",
              "          const element = document.querySelector('#df-ee67a318-f16f-4bfe-ac7e-5f7be8284733');\n",
              "          const dataTable =\n",
              "            await google.colab.kernel.invokeFunction('convertToInteractive',\n",
              "                                                     [key], {});\n",
              "          if (!dataTable) return;\n",
              "\n",
              "          const docLinkHtml = 'Like what you see? Visit the ' +\n",
              "            '<a target=\"_blank\" href=https://colab.research.google.com/notebooks/data_table.ipynb>data table notebook</a>'\n",
              "            + ' to learn more about interactive tables.';\n",
              "          element.innerHTML = '';\n",
              "          dataTable['output_type'] = 'display_data';\n",
              "          await google.colab.output.renderOutput(dataTable, element);\n",
              "          const docLink = document.createElement('div');\n",
              "          docLink.innerHTML = docLinkHtml;\n",
              "          element.appendChild(docLink);\n",
              "        }\n",
              "      </script>\n",
              "    </div>\n",
              "  </div>\n",
              "  "
            ]
          },
          "metadata": {},
          "execution_count": 26
        }
      ]
    },
    {
      "cell_type": "code",
      "source": [
        "real.shape"
      ],
      "metadata": {
        "colab": {
          "base_uri": "https://localhost:8080/"
        },
        "id": "ktpQZ-9V4sFQ",
        "outputId": "056778b1-964f-4d07-847d-85b6ede5d6fe"
      },
      "execution_count": 27,
      "outputs": [
        {
          "output_type": "execute_result",
          "data": {
            "text/plain": [
              "(21416, 5)"
            ]
          },
          "metadata": {},
          "execution_count": 27
        }
      ]
    },
    {
      "cell_type": "code",
      "source": [
        "empty_fake_index = [index for index, text in enumerate(fake.text.tolist()) if str(text).strip()=='']"
      ],
      "metadata": {
        "id": "hnZ_Tjfr7z4a"
      },
      "execution_count": 28,
      "outputs": []
    },
    {
      "cell_type": "code",
      "source": [
        "fake.iloc[empty_fake_index]"
      ],
      "metadata": {
        "colab": {
          "base_uri": "https://localhost:8080/",
          "height": 424
        },
        "id": "-hAsOAuJ7z2R",
        "outputId": "2d82006e-307e-4de3-ae1a-60ef6be9f045"
      },
      "execution_count": 29,
      "outputs": [
        {
          "output_type": "execute_result",
          "data": {
            "text/plain": [
              "                                                   title text    subject  \\\n",
              "10923  TAKE OUR POLL: Who Do You Think President Trum...        politics   \n",
              "11041  Joe Scarborough BERATES Mika Brzezinski Over “...        politics   \n",
              "11190  WATCH TUCKER CARLSON Scorch Sanctuary City May...        politics   \n",
              "11225  MAYOR OF SANCTUARY CITY: Trump Trying To Make ...        politics   \n",
              "11236  SHOCKER: Public School Turns Computer Lab Into...        politics   \n",
              "...                                                  ...  ...        ...   \n",
              "21816  BALTIMORE BURNS: MARYLAND GOVERNOR BRINGS IN N...       left-news   \n",
              "21826  FULL VIDEO: THE BLOCKBUSTER INVESTIGATION INTO...       left-news   \n",
              "21827  (VIDEO) HILLARY CLINTON: RELIGIOUS BELIEFS MUS...       left-news   \n",
              "21857  (VIDEO)ICE PROTECTING OBAMA: WON’T RELEASE NAM...       left-news   \n",
              "21873  (VIDEO) HYSTERICAL SNL TAKE ON HILLARY’S ANNOU...       left-news   \n",
              "\n",
              "               date  \n",
              "10923  May 10, 2017  \n",
              "11041  Apr 26, 2017  \n",
              "11190   Apr 6, 2017  \n",
              "11225   Apr 2, 2017  \n",
              "11236   Apr 1, 2017  \n",
              "...             ...  \n",
              "21816  Apr 27, 2015  \n",
              "21826  Apr 25, 2015  \n",
              "21827  Apr 25, 2015  \n",
              "21857  Apr 14, 2015  \n",
              "21873  Apr 12, 2015  \n",
              "\n",
              "[630 rows x 4 columns]"
            ],
            "text/html": [
              "\n",
              "  <div id=\"df-e7074186-a398-44f7-908e-ed6e79541820\">\n",
              "    <div class=\"colab-df-container\">\n",
              "      <div>\n",
              "<style scoped>\n",
              "    .dataframe tbody tr th:only-of-type {\n",
              "        vertical-align: middle;\n",
              "    }\n",
              "\n",
              "    .dataframe tbody tr th {\n",
              "        vertical-align: top;\n",
              "    }\n",
              "\n",
              "    .dataframe thead th {\n",
              "        text-align: right;\n",
              "    }\n",
              "</style>\n",
              "<table border=\"1\" class=\"dataframe\">\n",
              "  <thead>\n",
              "    <tr style=\"text-align: right;\">\n",
              "      <th></th>\n",
              "      <th>title</th>\n",
              "      <th>text</th>\n",
              "      <th>subject</th>\n",
              "      <th>date</th>\n",
              "    </tr>\n",
              "  </thead>\n",
              "  <tbody>\n",
              "    <tr>\n",
              "      <th>10923</th>\n",
              "      <td>TAKE OUR POLL: Who Do You Think President Trum...</td>\n",
              "      <td></td>\n",
              "      <td>politics</td>\n",
              "      <td>May 10, 2017</td>\n",
              "    </tr>\n",
              "    <tr>\n",
              "      <th>11041</th>\n",
              "      <td>Joe Scarborough BERATES Mika Brzezinski Over “...</td>\n",
              "      <td></td>\n",
              "      <td>politics</td>\n",
              "      <td>Apr 26, 2017</td>\n",
              "    </tr>\n",
              "    <tr>\n",
              "      <th>11190</th>\n",
              "      <td>WATCH TUCKER CARLSON Scorch Sanctuary City May...</td>\n",
              "      <td></td>\n",
              "      <td>politics</td>\n",
              "      <td>Apr 6, 2017</td>\n",
              "    </tr>\n",
              "    <tr>\n",
              "      <th>11225</th>\n",
              "      <td>MAYOR OF SANCTUARY CITY: Trump Trying To Make ...</td>\n",
              "      <td></td>\n",
              "      <td>politics</td>\n",
              "      <td>Apr 2, 2017</td>\n",
              "    </tr>\n",
              "    <tr>\n",
              "      <th>11236</th>\n",
              "      <td>SHOCKER: Public School Turns Computer Lab Into...</td>\n",
              "      <td></td>\n",
              "      <td>politics</td>\n",
              "      <td>Apr 1, 2017</td>\n",
              "    </tr>\n",
              "    <tr>\n",
              "      <th>...</th>\n",
              "      <td>...</td>\n",
              "      <td>...</td>\n",
              "      <td>...</td>\n",
              "      <td>...</td>\n",
              "    </tr>\n",
              "    <tr>\n",
              "      <th>21816</th>\n",
              "      <td>BALTIMORE BURNS: MARYLAND GOVERNOR BRINGS IN N...</td>\n",
              "      <td></td>\n",
              "      <td>left-news</td>\n",
              "      <td>Apr 27, 2015</td>\n",
              "    </tr>\n",
              "    <tr>\n",
              "      <th>21826</th>\n",
              "      <td>FULL VIDEO: THE BLOCKBUSTER INVESTIGATION INTO...</td>\n",
              "      <td></td>\n",
              "      <td>left-news</td>\n",
              "      <td>Apr 25, 2015</td>\n",
              "    </tr>\n",
              "    <tr>\n",
              "      <th>21827</th>\n",
              "      <td>(VIDEO) HILLARY CLINTON: RELIGIOUS BELIEFS MUS...</td>\n",
              "      <td></td>\n",
              "      <td>left-news</td>\n",
              "      <td>Apr 25, 2015</td>\n",
              "    </tr>\n",
              "    <tr>\n",
              "      <th>21857</th>\n",
              "      <td>(VIDEO)ICE PROTECTING OBAMA: WON’T RELEASE NAM...</td>\n",
              "      <td></td>\n",
              "      <td>left-news</td>\n",
              "      <td>Apr 14, 2015</td>\n",
              "    </tr>\n",
              "    <tr>\n",
              "      <th>21873</th>\n",
              "      <td>(VIDEO) HYSTERICAL SNL TAKE ON HILLARY’S ANNOU...</td>\n",
              "      <td></td>\n",
              "      <td>left-news</td>\n",
              "      <td>Apr 12, 2015</td>\n",
              "    </tr>\n",
              "  </tbody>\n",
              "</table>\n",
              "<p>630 rows × 4 columns</p>\n",
              "</div>\n",
              "      <button class=\"colab-df-convert\" onclick=\"convertToInteractive('df-e7074186-a398-44f7-908e-ed6e79541820')\"\n",
              "              title=\"Convert this dataframe to an interactive table.\"\n",
              "              style=\"display:none;\">\n",
              "        \n",
              "  <svg xmlns=\"http://www.w3.org/2000/svg\" height=\"24px\"viewBox=\"0 0 24 24\"\n",
              "       width=\"24px\">\n",
              "    <path d=\"M0 0h24v24H0V0z\" fill=\"none\"/>\n",
              "    <path d=\"M18.56 5.44l.94 2.06.94-2.06 2.06-.94-2.06-.94-.94-2.06-.94 2.06-2.06.94zm-11 1L8.5 8.5l.94-2.06 2.06-.94-2.06-.94L8.5 2.5l-.94 2.06-2.06.94zm10 10l.94 2.06.94-2.06 2.06-.94-2.06-.94-.94-2.06-.94 2.06-2.06.94z\"/><path d=\"M17.41 7.96l-1.37-1.37c-.4-.4-.92-.59-1.43-.59-.52 0-1.04.2-1.43.59L10.3 9.45l-7.72 7.72c-.78.78-.78 2.05 0 2.83L4 21.41c.39.39.9.59 1.41.59.51 0 1.02-.2 1.41-.59l7.78-7.78 2.81-2.81c.8-.78.8-2.07 0-2.86zM5.41 20L4 18.59l7.72-7.72 1.47 1.35L5.41 20z\"/>\n",
              "  </svg>\n",
              "      </button>\n",
              "      \n",
              "  <style>\n",
              "    .colab-df-container {\n",
              "      display:flex;\n",
              "      flex-wrap:wrap;\n",
              "      gap: 12px;\n",
              "    }\n",
              "\n",
              "    .colab-df-convert {\n",
              "      background-color: #E8F0FE;\n",
              "      border: none;\n",
              "      border-radius: 50%;\n",
              "      cursor: pointer;\n",
              "      display: none;\n",
              "      fill: #1967D2;\n",
              "      height: 32px;\n",
              "      padding: 0 0 0 0;\n",
              "      width: 32px;\n",
              "    }\n",
              "\n",
              "    .colab-df-convert:hover {\n",
              "      background-color: #E2EBFA;\n",
              "      box-shadow: 0px 1px 2px rgba(60, 64, 67, 0.3), 0px 1px 3px 1px rgba(60, 64, 67, 0.15);\n",
              "      fill: #174EA6;\n",
              "    }\n",
              "\n",
              "    [theme=dark] .colab-df-convert {\n",
              "      background-color: #3B4455;\n",
              "      fill: #D2E3FC;\n",
              "    }\n",
              "\n",
              "    [theme=dark] .colab-df-convert:hover {\n",
              "      background-color: #434B5C;\n",
              "      box-shadow: 0px 1px 3px 1px rgba(0, 0, 0, 0.15);\n",
              "      filter: drop-shadow(0px 1px 2px rgba(0, 0, 0, 0.3));\n",
              "      fill: #FFFFFF;\n",
              "    }\n",
              "  </style>\n",
              "\n",
              "      <script>\n",
              "        const buttonEl =\n",
              "          document.querySelector('#df-e7074186-a398-44f7-908e-ed6e79541820 button.colab-df-convert');\n",
              "        buttonEl.style.display =\n",
              "          google.colab.kernel.accessAllowed ? 'block' : 'none';\n",
              "\n",
              "        async function convertToInteractive(key) {\n",
              "          const element = document.querySelector('#df-e7074186-a398-44f7-908e-ed6e79541820');\n",
              "          const dataTable =\n",
              "            await google.colab.kernel.invokeFunction('convertToInteractive',\n",
              "                                                     [key], {});\n",
              "          if (!dataTable) return;\n",
              "\n",
              "          const docLinkHtml = 'Like what you see? Visit the ' +\n",
              "            '<a target=\"_blank\" href=https://colab.research.google.com/notebooks/data_table.ipynb>data table notebook</a>'\n",
              "            + ' to learn more about interactive tables.';\n",
              "          element.innerHTML = '';\n",
              "          dataTable['output_type'] = 'display_data';\n",
              "          await google.colab.output.renderOutput(dataTable, element);\n",
              "          const docLink = document.createElement('div');\n",
              "          docLink.innerHTML = docLinkHtml;\n",
              "          element.appendChild(docLink);\n",
              "        }\n",
              "      </script>\n",
              "    </div>\n",
              "  </div>\n",
              "  "
            ]
          },
          "metadata": {},
          "execution_count": 29
        }
      ]
    },
    {
      "cell_type": "code",
      "source": [
        "real['text'] = real['title'] + \" \" + real['text']\n",
        "fake['text'] = fake['title'] + \" \" + fake['text']"
      ],
      "metadata": {
        "id": "ss4-hwrT7z0g"
      },
      "execution_count": 30,
      "outputs": []
    },
    {
      "cell_type": "code",
      "source": [
        "real['text'] = real['text'].apply(lambda x: str(x).lower())\n",
        "fake['text'] = fake['text'].apply(lambda x: str(x).lower())"
      ],
      "metadata": {
        "id": "yizeG-iP7zyc"
      },
      "execution_count": 31,
      "outputs": []
    },
    {
      "cell_type": "markdown",
      "source": [
        "## Preprocessing Text"
      ],
      "metadata": {
        "id": "ChPw9DQ982e6"
      }
    },
    {
      "cell_type": "code",
      "source": [
        "real['class'] = 1\n",
        "fake['class'] = 0"
      ],
      "metadata": {
        "id": "IGN2oRKx7zv7"
      },
      "execution_count": 32,
      "outputs": []
    },
    {
      "cell_type": "code",
      "source": [
        "real.columns"
      ],
      "metadata": {
        "colab": {
          "base_uri": "https://localhost:8080/"
        },
        "id": "2cyiv-UF7zuX",
        "outputId": "5e96ee94-f5aa-434a-e561-bd2ba340c902"
      },
      "execution_count": 33,
      "outputs": [
        {
          "output_type": "execute_result",
          "data": {
            "text/plain": [
              "Index(['title', 'text', 'subject', 'date', 'publisher', 'class'], dtype='object')"
            ]
          },
          "metadata": {},
          "execution_count": 33
        }
      ]
    },
    {
      "cell_type": "code",
      "source": [
        "real = real[['text', 'class']]\n",
        "fake = fake[['text', 'class']]"
      ],
      "metadata": {
        "id": "yPWbCEdD7zsy"
      },
      "execution_count": 34,
      "outputs": []
    },
    {
      "cell_type": "code",
      "source": [
        "data = real.append(fake, ignore_index=False)"
      ],
      "metadata": {
        "id": "g1KrhEwF7zrb"
      },
      "execution_count": 35,
      "outputs": []
    },
    {
      "cell_type": "code",
      "source": [
        "data.head(5)"
      ],
      "metadata": {
        "colab": {
          "base_uri": "https://localhost:8080/",
          "height": 206
        },
        "id": "qG6biju07zpF",
        "outputId": "8b8e7a95-c589-41b1-c408-e73e837a29fb"
      },
      "execution_count": 36,
      "outputs": [
        {
          "output_type": "execute_result",
          "data": {
            "text/plain": [
              "                                                text  class\n",
              "0  as u.s. budget fight looms, republicans flip t...      1\n",
              "1  u.s. military to accept transgender recruits o...      1\n",
              "2  senior u.s. republican senator: 'let mr. muell...      1\n",
              "3  fbi russia probe helped by australian diplomat...      1\n",
              "4  trump wants postal service to charge 'much mor...      1"
            ],
            "text/html": [
              "\n",
              "  <div id=\"df-e6588784-b09c-4fb4-be7e-27ee9634a28f\">\n",
              "    <div class=\"colab-df-container\">\n",
              "      <div>\n",
              "<style scoped>\n",
              "    .dataframe tbody tr th:only-of-type {\n",
              "        vertical-align: middle;\n",
              "    }\n",
              "\n",
              "    .dataframe tbody tr th {\n",
              "        vertical-align: top;\n",
              "    }\n",
              "\n",
              "    .dataframe thead th {\n",
              "        text-align: right;\n",
              "    }\n",
              "</style>\n",
              "<table border=\"1\" class=\"dataframe\">\n",
              "  <thead>\n",
              "    <tr style=\"text-align: right;\">\n",
              "      <th></th>\n",
              "      <th>text</th>\n",
              "      <th>class</th>\n",
              "    </tr>\n",
              "  </thead>\n",
              "  <tbody>\n",
              "    <tr>\n",
              "      <th>0</th>\n",
              "      <td>as u.s. budget fight looms, republicans flip t...</td>\n",
              "      <td>1</td>\n",
              "    </tr>\n",
              "    <tr>\n",
              "      <th>1</th>\n",
              "      <td>u.s. military to accept transgender recruits o...</td>\n",
              "      <td>1</td>\n",
              "    </tr>\n",
              "    <tr>\n",
              "      <th>2</th>\n",
              "      <td>senior u.s. republican senator: 'let mr. muell...</td>\n",
              "      <td>1</td>\n",
              "    </tr>\n",
              "    <tr>\n",
              "      <th>3</th>\n",
              "      <td>fbi russia probe helped by australian diplomat...</td>\n",
              "      <td>1</td>\n",
              "    </tr>\n",
              "    <tr>\n",
              "      <th>4</th>\n",
              "      <td>trump wants postal service to charge 'much mor...</td>\n",
              "      <td>1</td>\n",
              "    </tr>\n",
              "  </tbody>\n",
              "</table>\n",
              "</div>\n",
              "      <button class=\"colab-df-convert\" onclick=\"convertToInteractive('df-e6588784-b09c-4fb4-be7e-27ee9634a28f')\"\n",
              "              title=\"Convert this dataframe to an interactive table.\"\n",
              "              style=\"display:none;\">\n",
              "        \n",
              "  <svg xmlns=\"http://www.w3.org/2000/svg\" height=\"24px\"viewBox=\"0 0 24 24\"\n",
              "       width=\"24px\">\n",
              "    <path d=\"M0 0h24v24H0V0z\" fill=\"none\"/>\n",
              "    <path d=\"M18.56 5.44l.94 2.06.94-2.06 2.06-.94-2.06-.94-.94-2.06-.94 2.06-2.06.94zm-11 1L8.5 8.5l.94-2.06 2.06-.94-2.06-.94L8.5 2.5l-.94 2.06-2.06.94zm10 10l.94 2.06.94-2.06 2.06-.94-2.06-.94-.94-2.06-.94 2.06-2.06.94z\"/><path d=\"M17.41 7.96l-1.37-1.37c-.4-.4-.92-.59-1.43-.59-.52 0-1.04.2-1.43.59L10.3 9.45l-7.72 7.72c-.78.78-.78 2.05 0 2.83L4 21.41c.39.39.9.59 1.41.59.51 0 1.02-.2 1.41-.59l7.78-7.78 2.81-2.81c.8-.78.8-2.07 0-2.86zM5.41 20L4 18.59l7.72-7.72 1.47 1.35L5.41 20z\"/>\n",
              "  </svg>\n",
              "      </button>\n",
              "      \n",
              "  <style>\n",
              "    .colab-df-container {\n",
              "      display:flex;\n",
              "      flex-wrap:wrap;\n",
              "      gap: 12px;\n",
              "    }\n",
              "\n",
              "    .colab-df-convert {\n",
              "      background-color: #E8F0FE;\n",
              "      border: none;\n",
              "      border-radius: 50%;\n",
              "      cursor: pointer;\n",
              "      display: none;\n",
              "      fill: #1967D2;\n",
              "      height: 32px;\n",
              "      padding: 0 0 0 0;\n",
              "      width: 32px;\n",
              "    }\n",
              "\n",
              "    .colab-df-convert:hover {\n",
              "      background-color: #E2EBFA;\n",
              "      box-shadow: 0px 1px 2px rgba(60, 64, 67, 0.3), 0px 1px 3px 1px rgba(60, 64, 67, 0.15);\n",
              "      fill: #174EA6;\n",
              "    }\n",
              "\n",
              "    [theme=dark] .colab-df-convert {\n",
              "      background-color: #3B4455;\n",
              "      fill: #D2E3FC;\n",
              "    }\n",
              "\n",
              "    [theme=dark] .colab-df-convert:hover {\n",
              "      background-color: #434B5C;\n",
              "      box-shadow: 0px 1px 3px 1px rgba(0, 0, 0, 0.15);\n",
              "      filter: drop-shadow(0px 1px 2px rgba(0, 0, 0, 0.3));\n",
              "      fill: #FFFFFF;\n",
              "    }\n",
              "  </style>\n",
              "\n",
              "      <script>\n",
              "        const buttonEl =\n",
              "          document.querySelector('#df-e6588784-b09c-4fb4-be7e-27ee9634a28f button.colab-df-convert');\n",
              "        buttonEl.style.display =\n",
              "          google.colab.kernel.accessAllowed ? 'block' : 'none';\n",
              "\n",
              "        async function convertToInteractive(key) {\n",
              "          const element = document.querySelector('#df-e6588784-b09c-4fb4-be7e-27ee9634a28f');\n",
              "          const dataTable =\n",
              "            await google.colab.kernel.invokeFunction('convertToInteractive',\n",
              "                                                     [key], {});\n",
              "          if (!dataTable) return;\n",
              "\n",
              "          const docLinkHtml = 'Like what you see? Visit the ' +\n",
              "            '<a target=\"_blank\" href=https://colab.research.google.com/notebooks/data_table.ipynb>data table notebook</a>'\n",
              "            + ' to learn more about interactive tables.';\n",
              "          element.innerHTML = '';\n",
              "          dataTable['output_type'] = 'display_data';\n",
              "          await google.colab.output.renderOutput(dataTable, element);\n",
              "          const docLink = document.createElement('div');\n",
              "          docLink.innerHTML = docLinkHtml;\n",
              "          element.appendChild(docLink);\n",
              "        }\n",
              "      </script>\n",
              "    </div>\n",
              "  </div>\n",
              "  "
            ]
          },
          "metadata": {},
          "execution_count": 36
        }
      ]
    },
    {
      "cell_type": "code",
      "source": [
        "data['text'].apply(lambda x: x.replace('.','')).head()"
      ],
      "metadata": {
        "colab": {
          "base_uri": "https://localhost:8080/"
        },
        "id": "7a-KWi0s_5rE",
        "outputId": "352dd1e2-8a69-45ed-e2cb-65fcdad9655a"
      },
      "execution_count": 37,
      "outputs": [
        {
          "output_type": "execute_result",
          "data": {
            "text/plain": [
              "0    as us budget fight looms, republicans flip the...\n",
              "1    us military to accept transgender recruits on ...\n",
              "2    senior us republican senator: 'let mr mueller ...\n",
              "3    fbi russia probe helped by australian diplomat...\n",
              "4    trump wants postal service to charge 'much mor...\n",
              "Name: text, dtype: object"
            ]
          },
          "metadata": {},
          "execution_count": 37
        }
      ]
    },
    {
      "cell_type": "code",
      "source": [
        "data['text'] = data['text'].apply(lambda x: x.replace('.',''))\n",
        "data['text'] = data['text'].apply(lambda x: re.sub('\\W+',' ', x))"
      ],
      "metadata": {
        "id": "xhKc27aT7zjS"
      },
      "execution_count": 38,
      "outputs": []
    },
    {
      "cell_type": "code",
      "source": [
        "data['text'].head()"
      ],
      "metadata": {
        "colab": {
          "base_uri": "https://localhost:8080/"
        },
        "id": "O7G7-fwT1oc2",
        "outputId": "8ecdaf02-f1b7-4766-9fa2-55b85abc8270"
      },
      "execution_count": 39,
      "outputs": [
        {
          "output_type": "execute_result",
          "data": {
            "text/plain": [
              "0    as us budget fight looms republicans flip thei...\n",
              "1    us military to accept transgender recruits on ...\n",
              "2    senior us republican senator let mr mueller do...\n",
              "3    fbi russia probe helped by australian diplomat...\n",
              "4    trump wants postal service to charge much more...\n",
              "Name: text, dtype: object"
            ]
          },
          "metadata": {},
          "execution_count": 39
        }
      ]
    },
    {
      "cell_type": "code",
      "source": [
        "data.head()"
      ],
      "metadata": {
        "colab": {
          "base_uri": "https://localhost:8080/",
          "height": 206
        },
        "id": "DZ2UV8Yb1oZt",
        "outputId": "b1f075f1-01b1-4140-dfe2-b76379c17291"
      },
      "execution_count": 40,
      "outputs": [
        {
          "output_type": "execute_result",
          "data": {
            "text/plain": [
              "                                                text  class\n",
              "0  as us budget fight looms republicans flip thei...      1\n",
              "1  us military to accept transgender recruits on ...      1\n",
              "2  senior us republican senator let mr mueller do...      1\n",
              "3  fbi russia probe helped by australian diplomat...      1\n",
              "4  trump wants postal service to charge much more...      1"
            ],
            "text/html": [
              "\n",
              "  <div id=\"df-865a8a1f-443a-4f23-b298-4c0e5998540d\">\n",
              "    <div class=\"colab-df-container\">\n",
              "      <div>\n",
              "<style scoped>\n",
              "    .dataframe tbody tr th:only-of-type {\n",
              "        vertical-align: middle;\n",
              "    }\n",
              "\n",
              "    .dataframe tbody tr th {\n",
              "        vertical-align: top;\n",
              "    }\n",
              "\n",
              "    .dataframe thead th {\n",
              "        text-align: right;\n",
              "    }\n",
              "</style>\n",
              "<table border=\"1\" class=\"dataframe\">\n",
              "  <thead>\n",
              "    <tr style=\"text-align: right;\">\n",
              "      <th></th>\n",
              "      <th>text</th>\n",
              "      <th>class</th>\n",
              "    </tr>\n",
              "  </thead>\n",
              "  <tbody>\n",
              "    <tr>\n",
              "      <th>0</th>\n",
              "      <td>as us budget fight looms republicans flip thei...</td>\n",
              "      <td>1</td>\n",
              "    </tr>\n",
              "    <tr>\n",
              "      <th>1</th>\n",
              "      <td>us military to accept transgender recruits on ...</td>\n",
              "      <td>1</td>\n",
              "    </tr>\n",
              "    <tr>\n",
              "      <th>2</th>\n",
              "      <td>senior us republican senator let mr mueller do...</td>\n",
              "      <td>1</td>\n",
              "    </tr>\n",
              "    <tr>\n",
              "      <th>3</th>\n",
              "      <td>fbi russia probe helped by australian diplomat...</td>\n",
              "      <td>1</td>\n",
              "    </tr>\n",
              "    <tr>\n",
              "      <th>4</th>\n",
              "      <td>trump wants postal service to charge much more...</td>\n",
              "      <td>1</td>\n",
              "    </tr>\n",
              "  </tbody>\n",
              "</table>\n",
              "</div>\n",
              "      <button class=\"colab-df-convert\" onclick=\"convertToInteractive('df-865a8a1f-443a-4f23-b298-4c0e5998540d')\"\n",
              "              title=\"Convert this dataframe to an interactive table.\"\n",
              "              style=\"display:none;\">\n",
              "        \n",
              "  <svg xmlns=\"http://www.w3.org/2000/svg\" height=\"24px\"viewBox=\"0 0 24 24\"\n",
              "       width=\"24px\">\n",
              "    <path d=\"M0 0h24v24H0V0z\" fill=\"none\"/>\n",
              "    <path d=\"M18.56 5.44l.94 2.06.94-2.06 2.06-.94-2.06-.94-.94-2.06-.94 2.06-2.06.94zm-11 1L8.5 8.5l.94-2.06 2.06-.94-2.06-.94L8.5 2.5l-.94 2.06-2.06.94zm10 10l.94 2.06.94-2.06 2.06-.94-2.06-.94-.94-2.06-.94 2.06-2.06.94z\"/><path d=\"M17.41 7.96l-1.37-1.37c-.4-.4-.92-.59-1.43-.59-.52 0-1.04.2-1.43.59L10.3 9.45l-7.72 7.72c-.78.78-.78 2.05 0 2.83L4 21.41c.39.39.9.59 1.41.59.51 0 1.02-.2 1.41-.59l7.78-7.78 2.81-2.81c.8-.78.8-2.07 0-2.86zM5.41 20L4 18.59l7.72-7.72 1.47 1.35L5.41 20z\"/>\n",
              "  </svg>\n",
              "      </button>\n",
              "      \n",
              "  <style>\n",
              "    .colab-df-container {\n",
              "      display:flex;\n",
              "      flex-wrap:wrap;\n",
              "      gap: 12px;\n",
              "    }\n",
              "\n",
              "    .colab-df-convert {\n",
              "      background-color: #E8F0FE;\n",
              "      border: none;\n",
              "      border-radius: 50%;\n",
              "      cursor: pointer;\n",
              "      display: none;\n",
              "      fill: #1967D2;\n",
              "      height: 32px;\n",
              "      padding: 0 0 0 0;\n",
              "      width: 32px;\n",
              "    }\n",
              "\n",
              "    .colab-df-convert:hover {\n",
              "      background-color: #E2EBFA;\n",
              "      box-shadow: 0px 1px 2px rgba(60, 64, 67, 0.3), 0px 1px 3px 1px rgba(60, 64, 67, 0.15);\n",
              "      fill: #174EA6;\n",
              "    }\n",
              "\n",
              "    [theme=dark] .colab-df-convert {\n",
              "      background-color: #3B4455;\n",
              "      fill: #D2E3FC;\n",
              "    }\n",
              "\n",
              "    [theme=dark] .colab-df-convert:hover {\n",
              "      background-color: #434B5C;\n",
              "      box-shadow: 0px 1px 3px 1px rgba(0, 0, 0, 0.15);\n",
              "      filter: drop-shadow(0px 1px 2px rgba(0, 0, 0, 0.3));\n",
              "      fill: #FFFFFF;\n",
              "    }\n",
              "  </style>\n",
              "\n",
              "      <script>\n",
              "        const buttonEl =\n",
              "          document.querySelector('#df-865a8a1f-443a-4f23-b298-4c0e5998540d button.colab-df-convert');\n",
              "        buttonEl.style.display =\n",
              "          google.colab.kernel.accessAllowed ? 'block' : 'none';\n",
              "\n",
              "        async function convertToInteractive(key) {\n",
              "          const element = document.querySelector('#df-865a8a1f-443a-4f23-b298-4c0e5998540d');\n",
              "          const dataTable =\n",
              "            await google.colab.kernel.invokeFunction('convertToInteractive',\n",
              "                                                     [key], {});\n",
              "          if (!dataTable) return;\n",
              "\n",
              "          const docLinkHtml = 'Like what you see? Visit the ' +\n",
              "            '<a target=\"_blank\" href=https://colab.research.google.com/notebooks/data_table.ipynb>data table notebook</a>'\n",
              "            + ' to learn more about interactive tables.';\n",
              "          element.innerHTML = '';\n",
              "          dataTable['output_type'] = 'display_data';\n",
              "          await google.colab.output.renderOutput(dataTable, element);\n",
              "          const docLink = document.createElement('div');\n",
              "          docLink.innerHTML = docLinkHtml;\n",
              "          element.appendChild(docLink);\n",
              "        }\n",
              "      </script>\n",
              "    </div>\n",
              "  </div>\n",
              "  "
            ]
          },
          "metadata": {},
          "execution_count": 40
        }
      ]
    },
    {
      "cell_type": "markdown",
      "source": [
        "## Vectorization - Word2Vec"
      ],
      "metadata": {
        "id": "IWF4gydIATdY"
      }
    },
    {
      "cell_type": "code",
      "source": [
        "import gensim"
      ],
      "metadata": {
        "id": "73SficvOAQxe"
      },
      "execution_count": 116,
      "outputs": []
    },
    {
      "cell_type": "code",
      "source": [
        "y = data['class'].values"
      ],
      "metadata": {
        "id": "uVAfu0qDAQvf"
      },
      "execution_count": 117,
      "outputs": []
    },
    {
      "cell_type": "code",
      "source": [
        "X = [d.split() for d in data['text'].tolist()]"
      ],
      "metadata": {
        "id": "dGA2yPN2AQuA"
      },
      "execution_count": 118,
      "outputs": []
    },
    {
      "cell_type": "code",
      "source": [
        "type(X[0])"
      ],
      "metadata": {
        "colab": {
          "base_uri": "https://localhost:8080/"
        },
        "id": "rY2s7DIRBFjH",
        "outputId": "e8e24348-9929-41d0-a243-53efb5dabdb5"
      },
      "execution_count": 119,
      "outputs": [
        {
          "output_type": "execute_result",
          "data": {
            "text/plain": [
              "list"
            ]
          },
          "metadata": {},
          "execution_count": 119
        }
      ]
    },
    {
      "cell_type": "code",
      "source": [
        "print(X[0])"
      ],
      "metadata": {
        "colab": {
          "base_uri": "https://localhost:8080/"
        },
        "id": "rnJIesrVAQse",
        "outputId": "903f18d3-1b9a-4d2b-b123-df65253d775d"
      },
      "execution_count": 120,
      "outputs": [
        {
          "output_type": "stream",
          "name": "stdout",
          "text": [
            "['as', 'us', 'budget', 'fight', 'looms', 'republicans', 'flip', 'their', 'fiscal', 'script', 'the', 'head', 'of', 'a', 'conservative', 'republican', 'faction', 'in', 'the', 'us', 'congress', 'who', 'voted', 'this', 'month', 'for', 'a', 'huge', 'expansion', 'of', 'the', 'national', 'debt', 'to', 'pay', 'for', 'tax', 'cuts', 'called', 'himself', 'a', 'fiscal', 'conservative', 'on', 'sunday', 'and', 'urged', 'budget', 'restraint', 'in', '2018', 'in', 'keeping', 'with', 'a', 'sharp', 'pivot', 'under', 'way', 'among', 'republicans', 'us', 'representative', 'mark', 'meadows', 'speaking', 'on', 'cbs', 'face', 'the', 'nation', 'drew', 'a', 'hard', 'line', 'on', 'federal', 'spending', 'which', 'lawmakers', 'are', 'bracing', 'to', 'do', 'battle', 'over', 'in', 'january', 'when', 'they', 'return', 'from', 'the', 'holidays', 'on', 'wednesday', 'lawmakers', 'will', 'begin', 'trying', 'to', 'pass', 'a', 'federal', 'budget', 'in', 'a', 'fight', 'likely', 'to', 'be', 'linked', 'to', 'other', 'issues', 'such', 'as', 'immigration', 'policy', 'even', 'as', 'the', 'november', 'congressional', 'election', 'campaigns', 'approach', 'in', 'which', 'republicans', 'will', 'seek', 'to', 'keep', 'control', 'of', 'congress', 'president', 'donald', 'trump', 'and', 'his', 'republicans', 'want', 'a', 'big', 'budget', 'increase', 'in', 'military', 'spending', 'while', 'democrats', 'also', 'want', 'proportional', 'increases', 'for', 'non', 'defense', 'discretionary', 'spending', 'on', 'programs', 'that', 'support', 'education', 'scientific', 'research', 'infrastructure', 'public', 'health', 'and', 'environmental', 'protection', 'the', 'trump', 'administration', 'has', 'already', 'been', 'willing', 'to', 'say', 'we', 're', 'going', 'to', 'increase', 'non', 'defense', 'discretionary', 'spending', 'by', 'about', '7', 'percent', 'meadows', 'chairman', 'of', 'the', 'small', 'but', 'influential', 'house', 'freedom', 'caucus', 'said', 'on', 'the', 'program', 'now', 'democrats', 'are', 'saying', 'that', 's', 'not', 'enough', 'we', 'need', 'to', 'give', 'the', 'government', 'a', 'pay', 'raise', 'of', '10', 'to', '11', 'percent', 'for', 'a', 'fiscal', 'conservative', 'i', 'don', 't', 'see', 'where', 'the', 'rationale', 'is', 'eventually', 'you', 'run', 'out', 'of', 'other', 'people', 's', 'money', 'he', 'said', 'meadows', 'was', 'among', 'republicans', 'who', 'voted', 'in', 'late', 'december', 'for', 'their', 'party', 's', 'debt', 'financed', 'tax', 'overhaul', 'which', 'is', 'expected', 'to', 'balloon', 'the', 'federal', 'budget', 'deficit', 'and', 'add', 'about', '15', 'trillion', 'over', '10', 'years', 'to', 'the', '20', 'trillion', 'national', 'debt', 'it', 's', 'interesting', 'to', 'hear', 'mark', 'talk', 'about', 'fiscal', 'responsibility', 'democratic', 'us', 'representative', 'joseph', 'crowley', 'said', 'on', 'cbs', 'crowley', 'said', 'the', 'republican', 'tax', 'bill', 'would', 'require', 'the', 'united', 'states', 'to', 'borrow', '15', 'trillion', 'to', 'be', 'paid', 'off', 'by', 'future', 'generations', 'to', 'finance', 'tax', 'cuts', 'for', 'corporations', 'and', 'the', 'rich', 'this', 'is', 'one', 'of', 'the', 'least', 'fiscally', 'responsible', 'bills', 'we', 've', 'ever', 'seen', 'passed', 'in', 'the', 'history', 'of', 'the', 'house', 'of', 'representatives', 'i', 'think', 'we', 're', 'going', 'to', 'be', 'paying', 'for', 'this', 'for', 'many', 'many', 'years', 'to', 'come', 'crowley', 'said', 'republicans', 'insist', 'the', 'tax', 'package', 'the', 'biggest', 'us', 'tax', 'overhaul', 'in', 'more', 'than', '30', 'years', 'will', 'boost', 'the', 'economy', 'and', 'job', 'growth', 'house', 'speaker', 'paul', 'ryan', 'who', 'also', 'supported', 'the', 'tax', 'bill', 'recently', 'went', 'further', 'than', 'meadows', 'making', 'clear', 'in', 'a', 'radio', 'interview', 'that', 'welfare', 'or', 'entitlement', 'reform', 'as', 'the', 'party', 'often', 'calls', 'it', 'would', 'be', 'a', 'top', 'republican', 'priority', 'in', '2018', 'in', 'republican', 'parlance', 'entitlement', 'programs', 'mean', 'food', 'stamps', 'housing', 'assistance', 'medicare', 'and', 'medicaid', 'health', 'insurance', 'for', 'the', 'elderly', 'poor', 'and', 'disabled', 'as', 'well', 'as', 'other', 'programs', 'created', 'by', 'washington', 'to', 'assist', 'the', 'needy', 'democrats', 'seized', 'on', 'ryan', 's', 'early', 'december', 'remarks', 'saying', 'they', 'showed', 'republicans', 'would', 'try', 'to', 'pay', 'for', 'their', 'tax', 'overhaul', 'by', 'seeking', 'spending', 'cuts', 'for', 'social', 'programs', 'but', 'the', 'goals', 'of', 'house', 'republicans', 'may', 'have', 'to', 'take', 'a', 'back', 'seat', 'to', 'the', 'senate', 'where', 'the', 'votes', 'of', 'some', 'democrats', 'will', 'be', 'needed', 'to', 'approve', 'a', 'budget', 'and', 'prevent', 'a', 'government', 'shutdown', 'democrats', 'will', 'use', 'their', 'leverage', 'in', 'the', 'senate', 'which', 'republicans', 'narrowly', 'control', 'to', 'defend', 'both', 'discretionary', 'non', 'defense', 'programs', 'and', 'social', 'spending', 'while', 'tackling', 'the', 'issue', 'of', 'the', 'dreamers', 'people', 'brought', 'illegally', 'to', 'the', 'country', 'as', 'children', 'trump', 'in', 'september', 'put', 'a', 'march', '2018', 'expiration', 'date', 'on', 'the', 'deferred', 'action', 'for', 'childhood', 'arrivals', 'or', 'daca', 'program', 'which', 'protects', 'the', 'young', 'immigrants', 'from', 'deportation', 'and', 'provides', 'them', 'with', 'work', 'permits', 'the', 'president', 'has', 'said', 'in', 'recent', 'twitter', 'messages', 'he', 'wants', 'funding', 'for', 'his', 'proposed', 'mexican', 'border', 'wall', 'and', 'other', 'immigration', 'law', 'changes', 'in', 'exchange', 'for', 'agreeing', 'to', 'help', 'the', 'dreamers', 'representative', 'debbie', 'dingell', 'told', 'cbs', 'she', 'did', 'not', 'favor', 'linking', 'that', 'issue', 'to', 'other', 'policy', 'objectives', 'such', 'as', 'wall', 'funding', 'we', 'need', 'to', 'do', 'daca', 'clean', 'she', 'said', 'on', 'wednesday', 'trump', 'aides', 'will', 'meet', 'with', 'congressional', 'leaders', 'to', 'discuss', 'those', 'issues', 'that', 'will', 'be', 'followed', 'by', 'a', 'weekend', 'of', 'strategy', 'sessions', 'for', 'trump', 'and', 'republican', 'leaders', 'on', 'jan', '6', 'and', '7', 'the', 'white', 'house', 'said', 'trump', 'was', 'also', 'scheduled', 'to', 'meet', 'on', 'sunday', 'with', 'florida', 'republican', 'governor', 'rick', 'scott', 'who', 'wants', 'more', 'emergency', 'aid', 'the', 'house', 'has', 'passed', 'an', '81', 'billion', 'aid', 'package', 'after', 'hurricanes', 'in', 'florida', 'texas', 'and', 'puerto', 'rico', 'and', 'wildfires', 'in', 'california', 'the', 'package', 'far', 'exceeded', 'the', '44', 'billion', 'requested', 'by', 'the', 'trump', 'administration', 'the', 'senate', 'has', 'not', 'yet', 'voted', 'on', 'the', 'aid']\n"
          ]
        }
      ]
    },
    {
      "cell_type": "code",
      "source": [
        "DIM = 100\n",
        "\n",
        "w2v_model = gensim.models.Word2Vec(sentences=X, size=DIM, window=10, min_count=1)"
      ],
      "metadata": {
        "id": "aT7rMH9wAQqv"
      },
      "execution_count": 121,
      "outputs": []
    },
    {
      "cell_type": "code",
      "source": [
        "len(w2v_model.wv.vocab)"
      ],
      "metadata": {
        "colab": {
          "base_uri": "https://localhost:8080/"
        },
        "id": "lsGdx_CDAQpD",
        "outputId": "b37b58f4-b95d-4ca7-ae93-8d4ca730cdbd"
      },
      "execution_count": 122,
      "outputs": [
        {
          "output_type": "execute_result",
          "data": {
            "text/plain": [
              "187856"
            ]
          },
          "metadata": {},
          "execution_count": 122
        }
      ]
    },
    {
      "cell_type": "code",
      "source": [
        "w2v_model.wv['love']"
      ],
      "metadata": {
        "colab": {
          "base_uri": "https://localhost:8080/"
        },
        "id": "A091uwX1CMBX",
        "outputId": "69eb9246-f02e-4bf8-9e21-96500c22acae"
      },
      "execution_count": 123,
      "outputs": [
        {
          "output_type": "execute_result",
          "data": {
            "text/plain": [
              "array([ 1.4047403 ,  2.0539277 ,  1.9472499 , -1.2011944 ,  0.23195842,\n",
              "        1.0958709 , -3.0761635 ,  0.09518193, -1.5526223 ,  2.4760783 ,\n",
              "        0.892036  , -1.167022  ,  2.1025374 , -0.02728022, -2.9022589 ,\n",
              "       -0.4520331 , -1.0442497 , -2.0434098 ,  0.21831542,  1.7220552 ,\n",
              "       -0.08969468, -0.23074195,  0.12207162, -1.9123385 ,  0.81979054,\n",
              "       -0.31593922, -0.25009936, -4.97205   , -0.7629717 ,  0.2569267 ,\n",
              "        2.1508303 ,  1.7771821 , -0.21365209, -0.52978003, -2.4032738 ,\n",
              "        3.257982  ,  2.2471905 ,  0.785949  ,  2.631328  ,  0.05344696,\n",
              "       -1.9571277 , -0.2895678 , -0.7748974 ,  3.085248  ,  1.1937962 ,\n",
              "        1.4456613 , -3.6617794 ,  4.9986825 ,  0.9077275 ,  1.2908928 ,\n",
              "        2.7020714 , -2.7608402 ,  2.961715  , -2.1032531 ,  1.3604373 ,\n",
              "       -0.01441202, -0.49786797, -0.72216904, -1.8809618 ,  2.3558981 ,\n",
              "        0.3079832 ,  1.9929943 , -2.466895  , -2.4617815 , -1.6286738 ,\n",
              "       -3.2130327 ,  1.7023914 , -0.8117595 ,  1.2784859 , -0.08329225,\n",
              "        1.0512669 ,  1.2626255 ,  0.9211399 , -3.837626  , -1.9981332 ,\n",
              "        0.50630575,  1.5005858 , -0.04204033,  2.1091719 , -0.5022042 ,\n",
              "       -3.172579  , -0.16059949, -0.2487851 ,  4.555657  ,  2.286146  ,\n",
              "        1.1102384 , -2.699831  , -2.1918838 ,  0.453854  ,  2.459049  ,\n",
              "        1.7948653 ,  2.1671288 ,  2.8588638 ,  5.499305  ,  0.7552572 ,\n",
              "        0.8760909 , -4.2972307 , -2.9469175 ,  6.2616463 ,  4.930195  ],\n",
              "      dtype=float32)"
            ]
          },
          "metadata": {},
          "execution_count": 123
        }
      ]
    },
    {
      "cell_type": "code",
      "source": [
        "len(w2v_model.wv['india']) ## From DIM = 100"
      ],
      "metadata": {
        "colab": {
          "base_uri": "https://localhost:8080/"
        },
        "id": "8M-ryJrWAQng",
        "outputId": "8a50b1ed-5320-4905-a934-70a17171e96c"
      },
      "execution_count": 124,
      "outputs": [
        {
          "output_type": "execute_result",
          "data": {
            "text/plain": [
              "100"
            ]
          },
          "metadata": {},
          "execution_count": 124
        }
      ]
    },
    {
      "cell_type": "code",
      "source": [
        "w2v_model.wv.most_similar('india')"
      ],
      "metadata": {
        "colab": {
          "base_uri": "https://localhost:8080/"
        },
        "id": "uUKzwLtlAQlL",
        "outputId": "c8b9ac95-14e3-4345-9826-347c1edbf451"
      },
      "execution_count": 125,
      "outputs": [
        {
          "output_type": "execute_result",
          "data": {
            "text/plain": [
              "[('pakistan', 0.730498731136322),\n",
              " ('malaysia', 0.6735684275627136),\n",
              " ('modi', 0.6481291055679321),\n",
              " ('indian', 0.6397271156311035),\n",
              " ('china', 0.620970606803894),\n",
              " ('narendra', 0.6061892509460449),\n",
              " ('philippines', 0.6005505323410034),\n",
              " ('australia', 0.5917475819587708),\n",
              " ('singapore', 0.576592743396759),\n",
              " ('islamabad', 0.5758286118507385)]"
            ]
          },
          "metadata": {},
          "execution_count": 125
        }
      ]
    },
    {
      "cell_type": "code",
      "source": [
        "tokenizer = Tokenizer()\n",
        "tokenizer.fit_on_texts(X)"
      ],
      "metadata": {
        "id": "cIWfdaJ9AQi8"
      },
      "execution_count": 126,
      "outputs": []
    },
    {
      "cell_type": "code",
      "source": [
        "X = tokenizer.texts_to_sequences(X)"
      ],
      "metadata": {
        "id": "-5Jn7S6FDHXW"
      },
      "execution_count": 127,
      "outputs": []
    },
    {
      "cell_type": "code",
      "source": [
        "# tokenizer.word_index"
      ],
      "metadata": {
        "id": "xhmTcCEuDHUc"
      },
      "execution_count": 128,
      "outputs": []
    },
    {
      "cell_type": "code",
      "source": [
        "plt.hist([len(x) for x in X], bins=700)\n",
        "plt.show()"
      ],
      "metadata": {
        "colab": {
          "base_uri": "https://localhost:8080/",
          "height": 265
        },
        "id": "EIERzYU8DHQV",
        "outputId": "cbaba3cc-50f5-4e7e-80be-426c6051e7b6"
      },
      "execution_count": 129,
      "outputs": [
        {
          "output_type": "display_data",
          "data": {
            "text/plain": [
              "<Figure size 432x288 with 1 Axes>"
            ],
            "image/png": "[encoded data removed]"
          },
          "metadata": {
            "needs_background": "light"
          }
        }
      ]
    },
    {
      "cell_type": "code",
      "source": [
        "nos = np.array([len(x) for x in X])\n",
        "len(nos[nos>1000])"
      ],
      "metadata": {
        "colab": {
          "base_uri": "https://localhost:8080/"
        },
        "id": "4IMQ6u94DHNF",
        "outputId": "b4012cc3-ef0b-4d9d-8753-087f987e202b"
      },
      "execution_count": 130,
      "outputs": [
        {
          "output_type": "execute_result",
          "data": {
            "text/plain": [
              "1717"
            ]
          },
          "metadata": {},
          "execution_count": 130
        }
      ]
    },
    {
      "cell_type": "code",
      "source": [
        "maxlen = 1000\n",
        "X = pad_sequences(X, maxlen=maxlen)"
      ],
      "metadata": {
        "id": "pViVi8tkDHLQ"
      },
      "execution_count": 131,
      "outputs": []
    },
    {
      "cell_type": "code",
      "source": [
        "len(X[10])"
      ],
      "metadata": {
        "colab": {
          "base_uri": "https://localhost:8080/"
        },
        "id": "YYeNUBYZAQf6",
        "outputId": "1887912f-3861-4245-8bee-c44f08d4cf8e"
      },
      "execution_count": 132,
      "outputs": [
        {
          "output_type": "execute_result",
          "data": {
            "text/plain": [
              "1000"
            ]
          },
          "metadata": {},
          "execution_count": 132
        }
      ]
    },
    {
      "cell_type": "code",
      "source": [
        "len(X)"
      ],
      "metadata": {
        "colab": {
          "base_uri": "https://localhost:8080/"
        },
        "id": "P9uKM5_bAQeA",
        "outputId": "e38918e0-2fea-4dec-bbcc-2a73458d67e9"
      },
      "execution_count": 133,
      "outputs": [
        {
          "output_type": "execute_result",
          "data": {
            "text/plain": [
              "44897"
            ]
          },
          "metadata": {},
          "execution_count": 133
        }
      ]
    },
    {
      "cell_type": "code",
      "source": [
        "vocab_size = len(tokenizer.word_index) + 1\n",
        "vocab = tokenizer.word_index"
      ],
      "metadata": {
        "id": "8F-gOKk51oX4"
      },
      "execution_count": 134,
      "outputs": []
    },
    {
      "cell_type": "code",
      "source": [
        "def get_weight_matrix(model):\n",
        "  weight_matrix = np.zeros((vocab_size, DIM))\n",
        "\n",
        "  for word, i in vocab.items():\n",
        "    weight_matrix[i] = model.wv[word]\n",
        "\n",
        "  return weight_matrix"
      ],
      "metadata": {
        "id": "UusySC8dEfUR"
      },
      "execution_count": 135,
      "outputs": []
    },
    {
      "cell_type": "code",
      "source": [
        "embedding_vectors = get_weight_matrix(w2v_model)"
      ],
      "metadata": {
        "id": "iEBqtyoUEkj_"
      },
      "execution_count": 136,
      "outputs": []
    },
    {
      "cell_type": "code",
      "source": [
        "embedding_vectors.shape"
      ],
      "metadata": {
        "colab": {
          "base_uri": "https://localhost:8080/"
        },
        "id": "ZVLy64oUEkhH",
        "outputId": "cdbd2730-6cc2-42fe-a9c6-f6d075819922"
      },
      "execution_count": 137,
      "outputs": [
        {
          "output_type": "execute_result",
          "data": {
            "text/plain": [
              "(187857, 100)"
            ]
          },
          "metadata": {},
          "execution_count": 137
        }
      ]
    },
    {
      "cell_type": "code",
      "source": [
        "model = Sequential()\n",
        "model.add(Embedding(vocab_size, output_dim=DIM, weights=[embedding_vectors], input_length=maxlen, trainable=False))\n",
        "model.add(LSTM(units=128))\n",
        "model.add(Dense(units=1, activation='sigmoid'))\n",
        "model.compile(optimizer='adam', loss='binary_crossentropy', metrics=['accuracy'])"
      ],
      "metadata": {
        "id": "SiXCkC02EkfZ"
      },
      "execution_count": 138,
      "outputs": []
    },
    {
      "cell_type": "code",
      "source": [
        "model.summary()"
      ],
      "metadata": {
        "colab": {
          "base_uri": "https://localhost:8080/"
        },
        "id": "dmuaEbQCEkdz",
        "outputId": "5c2bbdd7-b8eb-4b62-e1fa-18163c55b130"
      },
      "execution_count": 139,
      "outputs": [
        {
          "output_type": "stream",
          "name": "stdout",
          "text": [
            "Model: \"sequential_1\"\n",
            "_________________________________________________________________\n",
            " Layer (type)                Output Shape              Param #   \n",
            "=================================================================\n",
            " embedding_1 (Embedding)     (None, 1000, 100)         18785700  \n",
            "                                                                 \n",
            " lstm_1 (LSTM)               (None, 128)               117248    \n",
            "                                                                 \n",
            " dense_1 (Dense)             (None, 1)                 129       \n",
            "                                                                 \n",
            "=================================================================\n",
            "Total params: 18,903,077\n",
            "Trainable params: 117,377\n",
            "Non-trainable params: 18,785,700\n",
            "_________________________________________________________________\n"
          ]
        }
      ]
    },
    {
      "cell_type": "code",
      "source": [
        "X_train, X_test, y_train, y_test = train_test_split(X, y)"
      ],
      "metadata": {
        "id": "UaB8PJBsEkb0"
      },
      "execution_count": 140,
      "outputs": []
    },
    {
      "cell_type": "code",
      "source": [
        "model.fit(X_train, y_train, validation_split=0.3, epochs=6)"
      ],
      "metadata": {
        "colab": {
          "base_uri": "https://localhost:8080/"
        },
        "id": "Izmu9OYjEkYh",
        "outputId": "37c210f0-21f9-4bc7-d781-2eaf36961180"
      },
      "execution_count": 141,
      "outputs": [
        {
          "output_type": "stream",
          "name": "stdout",
          "text": [
            "Epoch 1/6\n",
            "737/737 [==============================] - 39s 51ms/step - loss: 0.1414 - accuracy: 0.9490 - val_loss: 0.0974 - val_accuracy: 0.9703\n",
            "Epoch 2/6\n",
            "737/737 [==============================] - 37s 50ms/step - loss: 0.0693 - accuracy: 0.9771 - val_loss: 0.0808 - val_accuracy: 0.9748\n",
            "Epoch 3/6\n",
            "737/737 [==============================] - 38s 51ms/step - loss: 0.0401 - accuracy: 0.9868 - val_loss: 0.0383 - val_accuracy: 0.9883\n",
            "Epoch 4/6\n",
            "737/737 [==============================] - 48s 65ms/step - loss: 0.0240 - accuracy: 0.9921 - val_loss: 0.0294 - val_accuracy: 0.9900\n",
            "Epoch 5/6\n",
            "737/737 [==============================] - 40s 55ms/step - loss: 0.0143 - accuracy: 0.9952 - val_loss: 0.0423 - val_accuracy: 0.9865\n",
            "Epoch 6/6\n",
            "737/737 [==============================] - 38s 52ms/step - loss: 0.0110 - accuracy: 0.9962 - val_loss: 0.0320 - val_accuracy: 0.9891\n"
          ]
        },
        {
          "output_type": "execute_result",
          "data": {
            "text/plain": [
              "<keras.callbacks.History at 0x7f51db2178d0>"
            ]
          },
          "metadata": {},
          "execution_count": 141
        }
      ]
    },
    {
      "cell_type": "code",
      "source": [
        "y_pred = (model.predict(X_test) >= 0.5).astype(int) "
      ],
      "metadata": {
        "colab": {
          "base_uri": "https://localhost:8080/"
        },
        "id": "BRBlTH4EEkW6",
        "outputId": "296ec6b3-774d-4a51-8656-6821333a1991"
      },
      "execution_count": 142,
      "outputs": [
        {
          "output_type": "stream",
          "name": "stdout",
          "text": [
            "351/351 [==============================] - 7s 18ms/step\n"
          ]
        }
      ]
    },
    {
      "cell_type": "code",
      "source": [
        "accuracy_score(y_pred, y_test)  "
      ],
      "metadata": {
        "colab": {
          "base_uri": "https://localhost:8080/"
        },
        "id": "4KMDryrFEkVH",
        "outputId": "3be2808b-b423-44b0-fc53-605a08ec8bb3"
      },
      "execution_count": 68,
      "outputs": [
        {
          "output_type": "execute_result",
          "data": {
            "text/plain": [
              "0.9902895322939866"
            ]
          },
          "metadata": {},
          "execution_count": 68
        }
      ]
    },
    {
      "cell_type": "code",
      "source": [
        "print(classification_report(y_pred, y_test))"
      ],
      "metadata": {
        "colab": {
          "base_uri": "https://localhost:8080/"
        },
        "id": "GRlkBrj3EkSv",
        "outputId": "8a3a4030-a0f3-4011-dc9c-07d9aca1348c"
      },
      "execution_count": 69,
      "outputs": [
        {
          "output_type": "stream",
          "name": "stdout",
          "text": [
            "              precision    recall  f1-score   support\n",
            "\n",
            "           0       0.99      0.99      0.99      5908\n",
            "           1       0.99      0.99      0.99      5317\n",
            "\n",
            "    accuracy                           0.99     11225\n",
            "   macro avg       0.99      0.99      0.99     11225\n",
            "weighted avg       0.99      0.99      0.99     11225\n",
            "\n"
          ]
        }
      ]
    },
    {
      "cell_type": "code",
      "source": [
        "x = ['this is a news']"
      ],
      "metadata": {
        "id": "61hbbn1iH-2Z"
      },
      "execution_count": 70,
      "outputs": []
    },
    {
      "cell_type": "code",
      "source": [
        "X_test"
      ],
      "metadata": {
        "colab": {
          "base_uri": "https://localhost:8080/"
        },
        "id": "W9jQpjAiEkQz",
        "outputId": "632bae45-751d-4739-d0e9-527cc1ed0926"
      },
      "execution_count": 71,
      "outputs": [
        {
          "output_type": "execute_result",
          "data": {
            "text/plain": [
              "array([[     0,      0,      0, ...,   1292,     13,     15],\n",
              "       [     0,      0,      0, ...,   3350,      6,   1461],\n",
              "       [     0,      0,      0, ...,     11,      4,   4168],\n",
              "       ...,\n",
              "       [     0,      0,      0, ...,    567,      3,    190],\n",
              "       [     0,      0,      0, ...,    200,     25, 168602],\n",
              "       [     0,      0,      0, ...,     71,     51,     15]], dtype=int32)"
            ]
          },
          "metadata": {},
          "execution_count": 71
        }
      ]
    },
    {
      "cell_type": "code",
      "source": [
        "x = tokenizer.texts_to_sequences(x)\n",
        "x"
      ],
      "metadata": {
        "colab": {
          "base_uri": "https://localhost:8080/"
        },
        "id": "TjcZRWs1EkNi",
        "outputId": "248918fa-1be8-44ab-d8e3-67f0590eeac6"
      },
      "execution_count": 72,
      "outputs": [
        {
          "output_type": "execute_result",
          "data": {
            "text/plain": [
              "[[26, 11, 4, 96]]"
            ]
          },
          "metadata": {},
          "execution_count": 72
        }
      ]
    },
    {
      "cell_type": "code",
      "source": [
        "x = pad_sequences(x, maxlen=maxlen)\n",
        "x"
      ],
      "metadata": {
        "colab": {
          "base_uri": "https://localhost:8080/"
        },
        "id": "VPn0-KujEikr",
        "outputId": "c84ee8f7-5e80-4f54-9a5a-0c577a2ffda5"
      },
      "execution_count": 73,
      "outputs": [
        {
          "output_type": "execute_result",
          "data": {
            "text/plain": [
              "array([[ 0,  0,  0,  0,  0,  0,  0,  0,  0,  0,  0,  0,  0,  0,  0,  0,\n",
              "         0,  0,  0,  0,  0,  0,  0,  0,  0,  0,  0,  0,  0,  0,  0,  0,\n",
              "         0,  0,  0,  0,  0,  0,  0,  0,  0,  0,  0,  0,  0,  0,  0,  0,\n",
              "         0,  0,  0,  0,  0,  0,  0,  0,  0,  0,  0,  0,  0,  0,  0,  0,\n",
              "         0,  0,  0,  0,  0,  0,  0,  0,  0,  0,  0,  0,  0,  0,  0,  0,\n",
              "         0,  0,  0,  0,  0,  0,  0,  0,  0,  0,  0,  0,  0,  0,  0,  0,\n",
              "         0,  0,  0,  0,  0,  0,  0,  0,  0,  0,  0,  0,  0,  0,  0,  0,\n",
              "         0,  0,  0,  0,  0,  0,  0,  0,  0,  0,  0,  0,  0,  0,  0,  0,\n",
              "         0,  0,  0,  0,  0,  0,  0,  0,  0,  0,  0,  0,  0,  0,  0,  0,\n",
              "         0,  0,  0,  0,  0,  0,  0,  0,  0,  0,  0,  0,  0,  0,  0,  0,\n",
              "         0,  0,  0,  0,  0,  0,  0,  0,  0,  0,  0,  0,  0,  0,  0,  0,\n",
              "         0,  0,  0,  0,  0,  0,  0,  0,  0,  0,  0,  0,  0,  0,  0,  0,\n",
              "         0,  0,  0,  0,  0,  0,  0,  0,  0,  0,  0,  0,  0,  0,  0,  0,\n",
              "         0,  0,  0,  0,  0,  0,  0,  0,  0,  0,  0,  0,  0,  0,  0,  0,\n",
              "         0,  0,  0,  0,  0,  0,  0,  0,  0,  0,  0,  0,  0,  0,  0,  0,\n",
              "         0,  0,  0,  0,  0,  0,  0,  0,  0,  0,  0,  0,  0,  0,  0,  0,\n",
              "         0,  0,  0,  0,  0,  0,  0,  0,  0,  0,  0,  0,  0,  0,  0,  0,\n",
              "         0,  0,  0,  0,  0,  0,  0,  0,  0,  0,  0,  0,  0,  0,  0,  0,\n",
              "         0,  0,  0,  0,  0,  0,  0,  0,  0,  0,  0,  0,  0,  0,  0,  0,\n",
              "         0,  0,  0,  0,  0,  0,  0,  0,  0,  0,  0,  0,  0,  0,  0,  0,\n",
              "         0,  0,  0,  0,  0,  0,  0,  0,  0,  0,  0,  0,  0,  0,  0,  0,\n",
              "         0,  0,  0,  0,  0,  0,  0,  0,  0,  0,  0,  0,  0,  0,  0,  0,\n",
              "         0,  0,  0,  0,  0,  0,  0,  0,  0,  0,  0,  0,  0,  0,  0,  0,\n",
              "         0,  0,  0,  0,  0,  0,  0,  0,  0,  0,  0,  0,  0,  0,  0,  0,\n",
              "         0,  0,  0,  0,  0,  0,  0,  0,  0,  0,  0,  0,  0,  0,  0,  0,\n",
              "         0,  0,  0,  0,  0,  0,  0,  0,  0,  0,  0,  0,  0,  0,  0,  0,\n",
              "         0,  0,  0,  0,  0,  0,  0,  0,  0,  0,  0,  0,  0,  0,  0,  0,\n",
              "         0,  0,  0,  0,  0,  0,  0,  0,  0,  0,  0,  0,  0,  0,  0,  0,\n",
              "         0,  0,  0,  0,  0,  0,  0,  0,  0,  0,  0,  0,  0,  0,  0,  0,\n",
              "         0,  0,  0,  0,  0,  0,  0,  0,  0,  0,  0,  0,  0,  0,  0,  0,\n",
              "         0,  0,  0,  0,  0,  0,  0,  0,  0,  0,  0,  0,  0,  0,  0,  0,\n",
              "         0,  0,  0,  0,  0,  0,  0,  0,  0,  0,  0,  0,  0,  0,  0,  0,\n",
              "         0,  0,  0,  0,  0,  0,  0,  0,  0,  0,  0,  0,  0,  0,  0,  0,\n",
              "         0,  0,  0,  0,  0,  0,  0,  0,  0,  0,  0,  0,  0,  0,  0,  0,\n",
              "         0,  0,  0,  0,  0,  0,  0,  0,  0,  0,  0,  0,  0,  0,  0,  0,\n",
              "         0,  0,  0,  0,  0,  0,  0,  0,  0,  0,  0,  0,  0,  0,  0,  0,\n",
              "         0,  0,  0,  0,  0,  0,  0,  0,  0,  0,  0,  0,  0,  0,  0,  0,\n",
              "         0,  0,  0,  0,  0,  0,  0,  0,  0,  0,  0,  0,  0,  0,  0,  0,\n",
              "         0,  0,  0,  0,  0,  0,  0,  0,  0,  0,  0,  0,  0,  0,  0,  0,\n",
              "         0,  0,  0,  0,  0,  0,  0,  0,  0,  0,  0,  0,  0,  0,  0,  0,\n",
              "         0,  0,  0,  0,  0,  0,  0,  0,  0,  0,  0,  0,  0,  0,  0,  0,\n",
              "         0,  0,  0,  0,  0,  0,  0,  0,  0,  0,  0,  0,  0,  0,  0,  0,\n",
              "         0,  0,  0,  0,  0,  0,  0,  0,  0,  0,  0,  0,  0,  0,  0,  0,\n",
              "         0,  0,  0,  0,  0,  0,  0,  0,  0,  0,  0,  0,  0,  0,  0,  0,\n",
              "         0,  0,  0,  0,  0,  0,  0,  0,  0,  0,  0,  0,  0,  0,  0,  0,\n",
              "         0,  0,  0,  0,  0,  0,  0,  0,  0,  0,  0,  0,  0,  0,  0,  0,\n",
              "         0,  0,  0,  0,  0,  0,  0,  0,  0,  0,  0,  0,  0,  0,  0,  0,\n",
              "         0,  0,  0,  0,  0,  0,  0,  0,  0,  0,  0,  0,  0,  0,  0,  0,\n",
              "         0,  0,  0,  0,  0,  0,  0,  0,  0,  0,  0,  0,  0,  0,  0,  0,\n",
              "         0,  0,  0,  0,  0,  0,  0,  0,  0,  0,  0,  0,  0,  0,  0,  0,\n",
              "         0,  0,  0,  0,  0,  0,  0,  0,  0,  0,  0,  0,  0,  0,  0,  0,\n",
              "         0,  0,  0,  0,  0,  0,  0,  0,  0,  0,  0,  0,  0,  0,  0,  0,\n",
              "         0,  0,  0,  0,  0,  0,  0,  0,  0,  0,  0,  0,  0,  0,  0,  0,\n",
              "         0,  0,  0,  0,  0,  0,  0,  0,  0,  0,  0,  0,  0,  0,  0,  0,\n",
              "         0,  0,  0,  0,  0,  0,  0,  0,  0,  0,  0,  0,  0,  0,  0,  0,\n",
              "         0,  0,  0,  0,  0,  0,  0,  0,  0,  0,  0,  0,  0,  0,  0,  0,\n",
              "         0,  0,  0,  0,  0,  0,  0,  0,  0,  0,  0,  0,  0,  0,  0,  0,\n",
              "         0,  0,  0,  0,  0,  0,  0,  0,  0,  0,  0,  0,  0,  0,  0,  0,\n",
              "         0,  0,  0,  0,  0,  0,  0,  0,  0,  0,  0,  0,  0,  0,  0,  0,\n",
              "         0,  0,  0,  0,  0,  0,  0,  0,  0,  0,  0,  0,  0,  0,  0,  0,\n",
              "         0,  0,  0,  0,  0,  0,  0,  0,  0,  0,  0,  0,  0,  0,  0,  0,\n",
              "         0,  0,  0,  0,  0,  0,  0,  0,  0,  0,  0,  0,  0,  0,  0,  0,\n",
              "         0,  0,  0,  0, 26, 11,  4, 96]], dtype=int32)"
            ]
          },
          "metadata": {},
          "execution_count": 73
        }
      ]
    },
    {
      "cell_type": "code",
      "source": [
        "(model.predict(x) >= 0.5).astype(int) # 0 means it's a fake news"
      ],
      "metadata": {
        "colab": {
          "base_uri": "https://localhost:8080/"
        },
        "id": "QLkhzDteIQpW",
        "outputId": "fbe77c89-373f-4cdf-ef94-73fc76fb44bd"
      },
      "execution_count": 74,
      "outputs": [
        {
          "output_type": "stream",
          "name": "stdout",
          "text": [
            "1/1 [==============================] - 0s 50ms/step\n"
          ]
        },
        {
          "output_type": "execute_result",
          "data": {
            "text/plain": [
              "array([[0]])"
            ]
          },
          "metadata": {},
          "execution_count": 74
        }
      ]
    },
    {
      "cell_type": "code",
      "source": [
        "def test(x):\n",
        "  x = tokenizer.texts_to_sequences(x)\n",
        "  x = pad_sequences(x, maxlen=maxlen)\n",
        "  pred = (model.predict(x) >= 0.5).astype(int) \n",
        "  if(pred[0][0]==0):\n",
        "    print('It is fake news')\n",
        "  else:\n",
        "    print('It is real news')"
      ],
      "metadata": {
        "id": "i4EmO3yAIXwY"
      },
      "execution_count": 191,
      "outputs": []
    },
    {
      "cell_type": "code",
      "source": [
        "test(['this is a news'])"
      ],
      "metadata": {
        "colab": {
          "base_uri": "https://localhost:8080/"
        },
        "id": "gDW63UZ5IvWf",
        "outputId": "f76326fe-d7b1-4346-effe-5e104993c7f7"
      },
      "execution_count": 193,
      "outputs": [
        {
          "output_type": "stream",
          "name": "stdout",
          "text": [
            "1/1 [==============================] - 0s 42ms/step\n",
            "It is fake news\n"
          ]
        }
      ]
    },
    {
      "cell_type": "code",
      "source": [
        "test(['New Omicron Covid-19 variants that experts say appears to spread easily are on the rise in the US, a report said quoting the latest federal data. Emphasizing on how the variants could present new risks, Wall Street Journal reported that according to the Centers for Disease Control and Prevention (CDC) estimates released on Friday, the two Omicron subvariants BQ.1 and BQ.1.1 could represent a combined 11.4% of US Covid infections by mid-October.'])"
      ],
      "metadata": {
        "colab": {
          "base_uri": "https://localhost:8080/"
        },
        "id": "5L8HwpFUI5VR",
        "outputId": "180e3927-9015-48f1-8579-34e2d30dab9c"
      },
      "execution_count": 194,
      "outputs": [
        {
          "output_type": "stream",
          "name": "stdout",
          "text": [
            "1/1 [==============================] - 0s 42ms/step\n",
            "It is real news\n"
          ]
        }
      ]
    },
    {
      "cell_type": "code",
      "source": [
        "test(['Former Punjab industries and commerce minister, Sunder Sham Arora was arrested on Saturday night while attempting to bribe an assistant inspector general of the vigilance bureau in Zirakpur, a senior officer of the agency said on Sunday.'])"
      ],
      "metadata": {
        "colab": {
          "base_uri": "https://localhost:8080/"
        },
        "id": "rF9H1-gmJziB",
        "outputId": "55e3f4b9-7131-4247-b8d7-e657b83d7d67"
      },
      "execution_count": 195,
      "outputs": [
        {
          "output_type": "stream",
          "name": "stdout",
          "text": [
            "1/1 [==============================] - 0s 41ms/step\n",
            "It is real news\n"
          ]
        }
      ]
    },
    {
      "cell_type": "code",
      "source": [
        "test(['This is not a news'])"
      ],
      "metadata": {
        "id": "y3FrSWFhKct2",
        "colab": {
          "base_uri": "https://localhost:8080/"
        },
        "outputId": "9c943711-ec99-4de9-bd0a-3f2ca795aeff"
      },
      "execution_count": 196,
      "outputs": [
        {
          "output_type": "stream",
          "name": "stdout",
          "text": [
            "1/1 [==============================] - 0s 45ms/step\n",
            "It is fake news\n"
          ]
        }
      ]
    },
    {
      "cell_type": "code",
      "source": [
        "test(['Misbah-ul-Haqs reverse lap off Joginder Sharmas delivery that had landed safely into the hands of Sreesanth in the 2007 T20 World Cup is a memory deeply embedded in the memory of most cricket fans of both India and Pakistan. That one very moment had agony and ecstasy written all over - a moment to savour for the young Indian side under MS Dhoni and a moment to forget for Pakistan, especially for Misbah. Fifteen years hence, the veteran Pakistan batter, who had retired form the game as one of the greats of Pakistan cricket, still regrets having played that shot and rather had a cracking response on it when the legendary Wasim Akram asked him a million dollar question.'])"
      ],
      "metadata": {
        "colab": {
          "base_uri": "https://localhost:8080/"
        },
        "id": "NNpan1mDG_Yb",
        "outputId": "cbd1a303-e825-4008-8faf-8e12c9e790c8"
      },
      "execution_count": 200,
      "outputs": [
        {
          "output_type": "stream",
          "name": "stdout",
          "text": [
            "1/1 [==============================] - 0s 98ms/step\n",
            "It is real news\n"
          ]
        }
      ]
    },
    {
      "cell_type": "code",
      "source": [],
      "metadata": {
        "id": "CAnuS3oCOY8O"
      },
      "execution_count": null,
      "outputs": []
    }
  ]
}